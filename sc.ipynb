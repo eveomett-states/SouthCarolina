{
 "cells": [
  {
   "cell_type": "markdown",
   "metadata": {},
   "source": [
    "@author: eveomett AI for Redistricting, USF All data retrieved 05/25/24:\n",
    "https://redistrictingdatahub.org/dataset/south-carolina-block-pl-94171-2020-by-table/\n",
    "\n",
    "https://redistrictingdatahub.org/dataset/2022-south-carolina-congressional-districts-approved-plan/\n",
    "\n",
    "https://redistrictingdatahub.org/dataset/vest-2020-south-carolina-precinct-and-election-results/\n",
    "https://redistrictingdatahub.org/dataset/vest-2018-south-carolina-precinct-and-election-results/\n",
    "https://redistrictingdatahub.org/dataset/vest-2016-south-carolina-precinct-and-election-results/    \n",
    "\n",
    "https://redistrictingdatahub.org/dataset/2021-south-carolina-state-senate-approved-plan/\n",
    "https://redistrictingdatahub.org/dataset/2024-south-carolina-house-of-representatives-districts-approved-plan/"
   ]
  },
  {
   "cell_type": "code",
   "execution_count": 2,
   "metadata": {},
   "outputs": [],
   "source": [
    "import pandas as pd\n",
    "import geopandas as gpd\n",
    "import maup\n",
    "import time\n",
    "from maup import smart_repair\n",
    "from gerrychain import Graph\n",
    "\n",
    "maup.progress.enabled = True"
   ]
  },
  {
   "cell_type": "code",
   "execution_count": 3,
   "metadata": {},
   "outputs": [],
   "source": [
    "import warnings\n",
    "warnings.filterwarnings(\"ignore\")"
   ]
  },
  {
   "cell_type": "code",
   "execution_count": 4,
   "metadata": {},
   "outputs": [],
   "source": [
    "# state = Tennessee\n",
    "state_ab = \"sc\""
   ]
  },
  {
   "cell_type": "markdown",
   "metadata": {},
   "source": [
    "## Data\n",
    "1. Download all the data in directory \"sc_data\"\n",
    "2. Extract them all"
   ]
  },
  {
   "cell_type": "code",
   "execution_count": 6,
   "metadata": {},
   "outputs": [],
   "source": [
    "data_folder = state_ab + \"_data/\"\n",
    "population1_data = \"./{}{}_pl2020_b/{}_pl2020_p1_b.shp\".format(data_folder, state_ab, state_ab)\n",
    "population2_data = \"./{}{}_pl2020_b/{}_pl2020_p2_b.shp\".format(data_folder, state_ab, state_ab)\n",
    "vap_data =  \"./{}{}_pl2020_b/{}_pl2020_p4_b.shp\".format(data_folder, state_ab, state_ab)\n",
    "vest20_data = \"./{}{}_vest_20/{}_vest_20.shp\".format(data_folder, state_ab, state_ab)\n",
    "vest18_data = \"./{}{}_vest_18/{}_vest_18.shp\".format(data_folder, state_ab, state_ab)\n",
    "vest16_data = \"./{}{}_vest_16/{}_vest_16.shp\".format(data_folder, state_ab, state_ab)\n",
    "cd_data = \"./{}{}_cong_adopted_2022/S865_Congress.shp\".format(data_folder, state_ab)\n",
    "send_data = \"./{}{}_sldu_2021/sc_sldu_2021.shp\".format(data_folder, state_ab)\n",
    "hdist_data = \"./{}{}_sldl_adopted_2024_shp/S1024.shp\".format(data_folder, state_ab)\n",
    "county_data = \"./{}{}_pl2020_cnty/{}_pl2020_cnty.shp\".format(data_folder, state_ab, state_ab)"
   ]
  },
  {
   "cell_type": "code",
   "execution_count": 7,
   "metadata": {},
   "outputs": [],
   "source": [
    "def do_smart_repair(df, min_rook_length = None, snap_precision = 10):\n",
    "    # change it to the UTM it needs for smart_repair\n",
    "    df = df.to_crs(df.estimate_utm_crs())\n",
    "    df = smart_repair(df, min_rook_length = min_rook_length)\n",
    "\n",
    "    if maup.doctor(df) == False:\n",
    "        raise Exception('maup.doctor failed')\n",
    "    \n",
    "    return df"
   ]
  },
  {
   "cell_type": "code",
   "execution_count": 8,
   "metadata": {},
   "outputs": [],
   "source": [
    "def add_district(dist_df, dist_name, election_df, col_name):\n",
    "    election_df = election_df.to_crs(election_df.estimate_utm_crs())\n",
    "    dist_df = dist_df.to_crs(dist_df.estimate_utm_crs())\n",
    "    # check if it needs to be smart_repair\n",
    "    if maup.doctor(dist_df) != True:\n",
    "        dist_df = do_smart_repair(dist_df)\n",
    "\n",
    "    # assign the pricincts\n",
    "    precincts_to_district_assignment = maup.assign(election_df.geometry, dist_df.geometry)\n",
    "    election_df[dist_name] = precincts_to_district_assignment\n",
    "    for precinct_index in range(len(election_df)):\n",
    "        election_df.at[precinct_index, dist_name] = dist_df.at[election_df.at[precinct_index, dist_name], col_name]\n",
    "\n",
    "    return election_df"
   ]
  },
  {
   "cell_type": "code",
   "execution_count": 9,
   "metadata": {},
   "outputs": [],
   "source": [
    "def rename(original, year):\n",
    "    party = original[6]\n",
    "    if party == 'R' or party == 'D':\n",
    "        return original[3:6] + year + original[6]\n",
    "    else:\n",
    "        return original[3:6] + year + 'O'"
   ]
  },
  {
   "cell_type": "code",
   "execution_count": 10,
   "metadata": {},
   "outputs": [],
   "source": [
    "pop_col = ['TOTPOP', 'HISP', 'NH_WHITE', 'NH_BLACK', 'NH_AMIN', 'NH_ASIAN', 'NH_NHPI', 'NH_OTHER', 'NH_2MORE', 'H_WHITE', 'H_BLACK', 'H_AMIN', 'H_ASIAN', 'H_NHPI', 'H_OTHER', 'H_2MORE', 'VAP', 'HVAP', 'WVAP', 'BVAP', 'AMINVAP', 'ASIANVAP', 'NHPIVAP', 'OTHERVAP', '2MOREVAP']"
   ]
  },
  {
   "cell_type": "code",
   "execution_count": 11,
   "metadata": {},
   "outputs": [],
   "source": [
    "def check_population(population, df):\n",
    "    pop_check = pd.DataFrame({\n",
    "        'pop_col': pop_col,\n",
    "        'population_df': population[pop_col].sum(), \n",
    "        'vest_base': df[pop_col].sum(),\n",
    "        'equal': [x == y for x, y in zip(population[pop_col].sum(), df[pop_col].sum())]\n",
    "    })\n",
    "    if pop_check['equal'].mean() < 1:\n",
    "        print(pop_check)\n",
    "        raise Exception(\"population doesn't agree\")\n",
    "\n",
    "    else:\n",
    "        print(\"population agrees\")"
   ]
  },
  {
   "cell_type": "code",
   "execution_count": 12,
   "metadata": {},
   "outputs": [],
   "source": [
    "def add_vest(vest, df, year, population, start_col, snap_precision = 10):\n",
    "    df = df.to_crs(df.estimate_utm_crs())\n",
    "    vest = vest.to_crs(vest.estimate_utm_crs())\n",
    "    population = population.to_crs(population.estimate_utm_crs())\n",
    "    df_crs = df.crs\n",
    "    vest_crs = vest.crs\n",
    "    \n",
    "     # check if it needs to be smart_repair\n",
    "    if maup.doctor(vest) != True:\n",
    "        vest = do_smart_repair(vest, snap_precision = snap_precision)\n",
    "    \n",
    "    # rename the columns\n",
    "    original_col = vest.columns[start_col:-1]\n",
    "    new_col = [rename(i, year) for i in original_col]\n",
    "    rename_dict = dict(zip(original_col, new_col))\n",
    "    vest = vest.rename(columns=rename_dict)\n",
    "    vest = vest.groupby(level=0, axis=1).sum() # combine all the other party's vote into columns with sufix \"O\"\n",
    "    col_name = list(set(new_col))\n",
    "    col_name.sort()\n",
    "    \n",
    "    # make the blocks from precincts by weight\n",
    "    vest = gpd.GeoDataFrame(vest, crs=vest_crs)\n",
    "    election_in_block = population[[\"VAP\", 'geometry']] # population_df is in block scale\n",
    "    blocks_to_precincts_assignment = maup.assign(election_in_block.geometry, vest.geometry)\n",
    "    weights = election_in_block[\"VAP\"] / blocks_to_precincts_assignment.map(election_in_block[\"VAP\"].groupby(blocks_to_precincts_assignment).sum())\n",
    "    weights = weights.fillna(0)\n",
    "    prorated = maup.prorate(blocks_to_precincts_assignment, vest[col_name], weights)\n",
    "    election_in_block[col_name] = prorated\n",
    "    \n",
    "    # assign blocks to precincts\n",
    "    election_in_block = gpd.GeoDataFrame(election_in_block, crs=vest_crs)\n",
    "    df = gpd.GeoDataFrame(df, crs=df_crs)\n",
    "    block_to_pricinct_assginment = maup.assign(election_in_block.geometry, df.geometry)\n",
    "    df[col_name] = election_in_block[col_name].groupby(block_to_pricinct_assginment).sum()\n",
    "    df = df.groupby(level=0, axis=1).sum()\n",
    "    df = gpd.GeoDataFrame(df, crs = df_crs)\n",
    "    # check if population agrees\n",
    "    check_population(population, df)\n",
    "    \n",
    "    return df"
   ]
  },
  {
   "cell_type": "code",
   "execution_count": 13,
   "metadata": {},
   "outputs": [],
   "source": [
    "def add_vest_base(vest, start_col, year, county = None, min_rook_length = None, snap_precision = 10):\n",
    "    vest = vest.to_crs(vest.estimate_utm_crs())\n",
    "    vest_crs = vest.crs\n",
    "    original_col = vest.columns[start_col:-1]\n",
    "    new_col = [rename(i, year) for i in original_col]\n",
    "    rename_dict = dict(zip(original_col, new_col))\n",
    "    vest = vest.rename(columns=rename_dict)\n",
    "    vest = vest.groupby(level=0, axis=1).sum()\n",
    "    vest = gpd.GeoDataFrame(vest, crs=vest_crs)\n",
    "\n",
    "    if county is not None:\n",
    "        county = county.to_crs(county.estimate_utm_crs())\n",
    "        vest = smart_repair(vest, nest_within_regions = county, min_rook_length = min_rook_length, snap_precision = snap_precision) # nest precincts within counties\n",
    "\n",
    "    else:\n",
    "        vest = smart_repair(vest, min_rook_length = min_rook_length, snap_precision = snap_precision) \n",
    "    \n",
    "    return vest"
   ]
  },
  {
   "cell_type": "code",
   "execution_count": 14,
   "metadata": {},
   "outputs": [],
   "source": [
    "def check_small_boundary_lengths(vest_base):\n",
    "    import copy\n",
    "    vest_base = vest_base.to_crs(vest_base.estimate_utm_crs())\n",
    "\n",
    "    boundaries = copy.deepcopy(vest_base)\n",
    "    boundaries[\"geometry\"] = boundaries.geometry.boundary  # get boundaries\n",
    "    neighbors = gpd.sjoin(boundaries, vest_base, predicate=\"intersects\") # find boundaries that intersect\n",
    "    neighbors = neighbors[neighbors.index != neighbors.index_right] # remove boundaries of a region with itself\n",
    "\n",
    "    # compute shared border length using intersection\n",
    "    borders = list(neighbors.apply(\n",
    "        lambda row: row.geometry.intersection(vest_base.loc[row.index_right, \"geometry\"]).length, axis=1\n",
    "    ))\n",
    "\n",
    "    borders.sort()\n",
    "    \n",
    "    return borders"
   ]
  },
  {
   "cell_type": "markdown",
   "metadata": {},
   "source": [
    "### Read the census data"
   ]
  },
  {
   "cell_type": "code",
   "execution_count": 16,
   "metadata": {},
   "outputs": [],
   "source": [
    "population1_df = gpd.read_file(population1_data)\n",
    "population2_df = gpd.read_file(population2_data)\n",
    "vap_df = gpd.read_file(vap_data)\n",
    "county_df = gpd.read_file(county_data)"
   ]
  },
  {
   "cell_type": "code",
   "execution_count": 17,
   "metadata": {},
   "outputs": [],
   "source": [
    "population2_df = population2_df.drop(columns=['SUMLEV', 'LOGRECNO', 'GEOID', 'COUNTY', 'geometry'])\n",
    "vap_df = vap_df.drop(columns=['SUMLEV', 'LOGRECNO', 'GEOID', 'COUNTY', 'geometry'])"
   ]
  },
  {
   "cell_type": "code",
   "execution_count": 18,
   "metadata": {},
   "outputs": [],
   "source": [
    "population_df = pd.merge(population1_df, population2_df, on='GEOID20')\n",
    "population_df = pd.merge(population_df, vap_df, on='GEOID20')\n",
    "population_df = population_df.to_crs(population_df.estimate_utm_crs())"
   ]
  },
  {
   "cell_type": "code",
   "execution_count": 19,
   "metadata": {},
   "outputs": [
    {
     "name": "stderr",
     "output_type": "stream",
     "text": [
      "100%|█████████████████████████████████| 146844/146844 [01:02<00:00, 2334.46it/s]\n"
     ]
    },
    {
     "data": {
      "text/plain": [
       "True"
      ]
     },
     "execution_count": 19,
     "metadata": {},
     "output_type": "execute_result"
    }
   ],
   "source": [
    "maup.doctor(population_df)"
   ]
  },
  {
   "cell_type": "code",
   "execution_count": 20,
   "metadata": {},
   "outputs": [],
   "source": [
    "population_df['H_WHITE'] = population_df.apply(lambda t: t['P0010003'] - t['P0020005'], 1)\n",
    "population_df['H_BLACK'] = population_df.apply(lambda t: t['P0010004'] - t['P0020006'], 1)\n",
    "population_df['H_AMIN'] = population_df.apply(lambda t: t['P0010005'] - t['P0020007'], 1)\n",
    "population_df['H_ASIAN'] = population_df.apply(lambda t: t['P0010006'] - t['P0020008'], 1)\n",
    "population_df['H_NHPI'] = population_df.apply(lambda t: t['P0010007'] - t['P0020009'], 1)\n",
    "population_df['H_OTHER'] = population_df.apply(lambda t: t['P0010008'] - t['P0020010'], 1)\n",
    "population_df['H_2MORE'] = population_df.apply(lambda t: t['P0010009'] - t['P0020011'], 1)"
   ]
  },
  {
   "cell_type": "code",
   "execution_count": 21,
   "metadata": {},
   "outputs": [],
   "source": [
    "rename_dict = {'P0020001': 'TOTPOP', 'P0020002': 'HISP', 'P0020005': 'NH_WHITE', 'P0020006': 'NH_BLACK', 'P0020007': 'NH_AMIN',\n",
    "                    'P0020008': 'NH_ASIAN', 'P0020009': 'NH_NHPI', 'P0020010': 'NH_OTHER', 'P0020011': 'NH_2MORE',\n",
    "                    'P0040001': 'VAP', 'P0040002': 'HVAP', 'P0040005': 'WVAP', 'P0040006': 'BVAP', 'P0040007': 'AMINVAP',\n",
    "                                        'P0040008': 'ASIANVAP', 'P0040009': 'NHPIVAP', 'P0040010': 'OTHERVAP', 'P0040011': '2MOREVAP'}"
   ]
  },
  {
   "cell_type": "code",
   "execution_count": 22,
   "metadata": {},
   "outputs": [],
   "source": [
    "population_df.rename(columns=rename_dict, inplace = True)"
   ]
  },
  {
   "cell_type": "code",
   "execution_count": 23,
   "metadata": {},
   "outputs": [
    {
     "name": "stderr",
     "output_type": "stream",
     "text": [
      "100%|██████████████████████████████████████████| 46/46 [00:00<00:00, 192.20it/s]\n"
     ]
    },
    {
     "data": {
      "text/plain": [
       "True"
      ]
     },
     "execution_count": 23,
     "metadata": {},
     "output_type": "execute_result"
    }
   ],
   "source": [
    "county_df = county_df.to_crs(county_df.estimate_utm_crs())\n",
    "maup.doctor(county_df)"
   ]
  },
  {
   "cell_type": "markdown",
   "metadata": {},
   "source": [
    "## Read the vest 20 data\n",
    "\n",
    "Now using it as a \"base pricinct\""
   ]
  },
  {
   "cell_type": "markdown",
   "metadata": {},
   "source": [
    "## Check if vest20 can be used as base"
   ]
  },
  {
   "cell_type": "code",
   "execution_count": 26,
   "metadata": {},
   "outputs": [],
   "source": [
    "vest20 = gpd.read_file(vest20_data)"
   ]
  },
  {
   "cell_type": "code",
   "execution_count": 27,
   "metadata": {},
   "outputs": [
    {
     "data": {
      "text/plain": [
       "Index(['COUNTY', 'PCODE', 'CODE_NAME', 'G20PRERTRU', 'G20PREDBID',\n",
       "       'G20PRELJOR', 'G20PREGHAW', 'G20PREAFUE', 'G20USSRGRA', 'G20USSDHAR',\n",
       "       'G20USSCBLE', 'G20USSOWRI', 'geometry'],\n",
       "      dtype='object')"
      ]
     },
     "execution_count": 27,
     "metadata": {},
     "output_type": "execute_result"
    }
   ],
   "source": [
    "vest20.columns"
   ]
  },
  {
   "cell_type": "code",
   "execution_count": 28,
   "metadata": {},
   "outputs": [],
   "source": [
    "start_col = 3\n",
    "vest_base_data = vest20\n",
    "year = '20'"
   ]
  },
  {
   "cell_type": "code",
   "execution_count": 29,
   "metadata": {},
   "outputs": [
    {
     "name": "stderr",
     "output_type": "stream",
     "text": [
      "100%|██████████████████████████████████████████| 46/46 [00:00<00:00, 187.67it/s]\n"
     ]
    },
    {
     "name": "stdout",
     "output_type": "stream",
     "text": [
      "Snapping all geometries to a grid with precision 10^( -5 ) to avoid GEOS errors.\n"
     ]
    },
    {
     "name": "stderr",
     "output_type": "stream",
     "text": [
      "100%|██████████████████████████████████████████| 46/46 [00:00<00:00, 499.96it/s]\n",
      "100%|███████████████████████████████████████████| 46/46 [00:00<00:00, 48.88it/s]\n"
     ]
    },
    {
     "name": "stdout",
     "output_type": "stream",
     "text": [
      "Identifying overlaps...\n"
     ]
    },
    {
     "name": "stderr",
     "output_type": "stream",
     "text": [
      "100%|███████████████████████████████████| 60792/60792 [00:46<00:00, 1319.86it/s]\n"
     ]
    },
    {
     "name": "stdout",
     "output_type": "stream",
     "text": [
      "Resolving overlaps and filling gaps...\n"
     ]
    },
    {
     "name": "stderr",
     "output_type": "stream",
     "text": [
      "100%|██████████████████████████████████████████| 46/46 [00:00<00:00, 563.15it/s]\n",
      "100%|███████████████████████████████████████████| 46/46 [00:01<00:00, 45.09it/s]\n",
      "Gaps to simplify in region 0: 100%|███████████| 723/723 [00:07<00:00, 91.79it/s]\n",
      "Gaps to fill in region 0: 100%|█████████████████| 15/15 [00:00<00:00, 25.51it/s]\n",
      "Gaps to simplify in region 1: 100%|███████████| 840/840 [00:09<00:00, 89.18it/s]\n",
      "Gaps to fill in region 1: 100%|█████████████████| 19/19 [00:00<00:00, 47.32it/s]\n",
      "Gaps to simplify in region 2: 100%|█████████| 1035/1035 [00:12<00:00, 79.84it/s]\n",
      "Gaps to fill in region 2: 100%|█████████████████| 22/22 [00:00<00:00, 27.51it/s]\n",
      "Gaps to simplify in region 3: 100%|█████████| 1100/1100 [00:30<00:00, 36.26it/s]\n",
      "Gaps to fill in region 3: 100%|█████████████████| 31/31 [00:00<00:00, 33.38it/s]\n",
      "Gaps to simplify in region 4: 100%|███████████| 776/776 [00:11<00:00, 65.31it/s]\n",
      "Gaps to fill in region 4: 100%|█████████████████| 16/16 [00:00<00:00, 49.59it/s]\n",
      "Gaps to simplify in region 5: 100%|█████████| 1207/1207 [00:20<00:00, 58.60it/s]\n",
      "Gaps to fill in region 5: 100%|█████████████████| 46/46 [00:01<00:00, 43.90it/s]\n",
      "Gaps to simplify in region 6: 100%|███████████| 681/681 [00:24<00:00, 28.08it/s]\n",
      "Gaps to fill in region 6: 100%|███████████████████| 6/6 [00:00<00:00,  8.08it/s]\n",
      "Gaps to simplify in region 7: 100%|███████████| 974/974 [00:21<00:00, 45.35it/s]\n",
      "Gaps to fill in region 7: 100%|███████████████████| 9/9 [00:00<00:00, 30.62it/s]\n",
      "Gaps to simplify in region 8: 100%|█████████| 1508/1508 [00:23<00:00, 63.89it/s]\n",
      "Gaps to fill in region 8: 100%|█████████████████| 16/16 [00:00<00:00, 32.84it/s]\n",
      "Gaps to simplify in region 9: 100%|███████████| 876/876 [00:10<00:00, 81.79it/s]\n",
      "Gaps to fill in region 9: 100%|█████████████████| 12/12 [00:00<00:00, 41.97it/s]\n",
      "Gaps to simplify in region 10: 100%|██████████| 365/365 [00:06<00:00, 54.54it/s]\n",
      "Gaps to fill in region 10: 100%|██████████████████| 5/5 [00:00<00:00, 20.00it/s]\n",
      "Gaps to simplify in region 11: 100%|██████████| 238/238 [00:06<00:00, 34.20it/s]\n",
      "Gaps to fill in region 11: 100%|████████████████| 66/66 [00:01<00:00, 57.71it/s]\n",
      "Gaps to simplify in region 12: 100%|██████████| 213/213 [00:03<00:00, 62.30it/s]\n",
      "Gaps to fill in region 12: 100%|████████████████| 12/12 [00:00<00:00, 41.49it/s]\n",
      "Gaps to simplify in region 13: 100%|████████| 1677/1677 [00:29<00:00, 56.20it/s]\n",
      "Gaps to fill in region 13: 100%|████████████████| 15/15 [00:00<00:00, 38.10it/s]\n",
      "Gaps to simplify in region 14: 100%|██████████| 452/452 [00:05<00:00, 75.58it/s]\n",
      "Gaps to fill in region 14: 100%|██████████████████| 6/6 [00:00<00:00, 29.63it/s]\n",
      "Gaps to simplify in region 15: 100%|█████████| 429/429 [00:03<00:00, 139.65it/s]\n",
      "Gaps to fill in region 15: 100%|████████████████| 10/10 [00:00<00:00, 54.72it/s]\n",
      "Gaps to simplify in region 16: 100%|██████████| 570/570 [00:06<00:00, 92.94it/s]\n",
      "Gaps to fill in region 16: 100%|██████████████████| 9/9 [00:00<00:00, 39.88it/s]\n",
      "Gaps to simplify in region 17: 100%|█████████| 302/302 [00:02<00:00, 107.14it/s]\n",
      "Gaps to fill in region 17: 100%|████████████████| 14/14 [00:00<00:00, 56.53it/s]\n",
      "Gaps to simplify in region 18: 100%|█████████| 377/377 [00:03<00:00, 105.61it/s]\n",
      "Gaps to fill in region 18: 100%|████████████████| 11/11 [00:00<00:00, 44.13it/s]\n",
      "Gaps to simplify in region 19: 100%|████████| 1376/1376 [00:20<00:00, 67.67it/s]\n",
      "Gaps to fill in region 19: 100%|██████████████████| 6/6 [00:00<00:00, 30.82it/s]\n",
      "Gaps to simplify in region 20: 100%|██████████| 862/862 [00:13<00:00, 61.93it/s]\n",
      "Gaps to fill in region 20: 100%|████████████████| 13/13 [00:00<00:00, 26.97it/s]\n",
      "Gaps to simplify in region 21: 100%|██████████| 235/235 [00:05<00:00, 44.69it/s]\n",
      "Gaps to fill in region 21: 100%|████████████████| 22/22 [00:00<00:00, 47.75it/s]\n",
      "Gaps to simplify in region 22: 100%|████████| 1454/1454 [00:20<00:00, 71.11it/s]\n",
      "Gaps to fill in region 22: 100%|████████████████| 19/19 [00:00<00:00, 32.44it/s]\n",
      "Gaps to simplify in region 23: 100%|██████████| 644/644 [00:07<00:00, 84.13it/s]\n",
      "Gaps to fill in region 23: 100%|████████████████| 10/10 [00:00<00:00, 34.65it/s]\n",
      "Gaps to simplify in region 24: 100%|██████████| 658/658 [00:06<00:00, 95.65it/s]\n",
      "Gaps to fill in region 24: 100%|████████████████| 27/27 [00:00<00:00, 48.74it/s]\n",
      "Gaps to simplify in region 25: 100%|█████████| 523/523 [00:04<00:00, 126.57it/s]\n",
      "Gaps to fill in region 25: 100%|██████████████████| 7/7 [00:00<00:00, 59.66it/s]\n",
      "Gaps to simplify in region 26: 100%|██████████| 671/671 [00:07<00:00, 91.07it/s]\n",
      "Gaps to fill in region 26: 100%|██████████████████| 9/9 [00:00<00:00, 47.67it/s]\n",
      "Gaps to simplify in region 27: 100%|██████████| 431/431 [00:08<00:00, 52.49it/s]\n",
      "Gaps to fill in region 27: 100%|████████████████| 52/52 [00:00<00:00, 59.15it/s]\n",
      "Gaps to simplify in region 28: 100%|██████████| 413/413 [00:04<00:00, 85.66it/s]\n",
      "Gaps to fill in region 28: 100%|██████████████████| 6/6 [00:00<00:00, 29.73it/s]\n",
      "Gaps to simplify in region 29: 100%|██████████| 571/571 [00:09<00:00, 62.08it/s]\n",
      "Gaps to fill in region 29: 100%|████████████████| 10/10 [00:00<00:00, 35.17it/s]\n",
      "Gaps to simplify in region 30: 100%|█████████| 865/865 [00:07<00:00, 111.92it/s]\n",
      "Gaps to fill in region 30: 100%|████████████████| 10/10 [00:00<00:00, 59.65it/s]\n",
      "Gaps to simplify in region 31: 100%|██████████| 887/887 [00:09<00:00, 97.80it/s]\n",
      "Gaps to fill in region 31: 100%|████████████████| 25/25 [00:00<00:00, 39.74it/s]\n",
      "Gaps to simplify in region 32: 100%|████████| 1368/1368 [00:15<00:00, 87.01it/s]\n",
      "Gaps to fill in region 32: 100%|████████████████| 28/28 [00:00<00:00, 37.74it/s]\n",
      "Gaps to simplify in region 33: 100%|█████████| 427/427 [00:04<00:00, 100.91it/s]\n",
      "Gaps to fill in region 33: 100%|████████████████| 21/21 [00:00<00:00, 45.37it/s]\n",
      "Gaps to simplify in region 34: 100%|█████████| 250/250 [00:01<00:00, 126.66it/s]\n",
      "Gaps to fill in region 34: 100%|██████████████████| 5/5 [00:00<00:00, 53.08it/s]\n",
      "Gaps to simplify in region 35: 100%|██████████| 703/703 [00:08<00:00, 78.38it/s]\n",
      "Gaps to fill in region 35: 100%|████████████████| 10/10 [00:00<00:00, 32.39it/s]\n",
      "Gaps to simplify in region 36: 100%|█████████| 512/512 [00:04<00:00, 113.06it/s]\n",
      "Gaps to fill in region 36: 100%|██████████████████| 4/4 [00:00<00:00, 56.43it/s]\n",
      "Gaps to simplify in region 37: 100%|████████| 1695/1695 [00:24<00:00, 70.48it/s]\n",
      "Gaps to fill in region 37: 100%|████████████████| 21/21 [00:00<00:00, 35.78it/s]\n",
      "Gaps to simplify in region 38: 100%|████████| 1368/1368 [00:21<00:00, 62.34it/s]\n",
      "Gaps to fill in region 38: 100%|████████████████| 10/10 [00:00<00:00, 40.53it/s]\n",
      "Gaps to simplify in region 39: 100%|████████| 1193/1193 [00:21<00:00, 55.47it/s]\n",
      "Gaps to fill in region 39: 100%|████████████████| 11/11 [00:00<00:00, 27.24it/s]\n",
      "Gaps to simplify in region 40: 100%|████████| 1492/1492 [00:20<00:00, 74.02it/s]\n",
      "Gaps to fill in region 40: 100%|████████████████| 19/19 [00:00<00:00, 33.74it/s]\n",
      "Gaps to simplify in region 41: 100%|██████████| 988/988 [00:12<00:00, 77.03it/s]\n",
      "Gaps to fill in region 41: 100%|████████████████| 20/20 [00:01<00:00, 12.64it/s]\n",
      "Gaps to simplify in region 42: 100%|█████████| 663/663 [00:06<00:00, 103.75it/s]\n",
      "Gaps to fill in region 42: 100%|████████████████| 25/25 [00:00<00:00, 59.93it/s]\n",
      "Gaps to simplify in region 43: 100%|████████| 1057/1057 [00:21<00:00, 50.21it/s]\n",
      "Gaps to fill in region 43: 100%|████████████████| 21/21 [00:00<00:00, 60.23it/s]\n",
      "Gaps to simplify in region 44: 100%|████████| 1451/1451 [00:28<00:00, 51.27it/s]\n",
      "Gaps to fill in region 44: 100%|████████████████| 10/10 [00:00<00:00, 35.78it/s]\n"
     ]
    },
    {
     "name": "stdout",
     "output_type": "stream",
     "text": [
      "1 gaps in region 45 will remain unfilled, because they either are not simply connected or exceed the area threshold.\n"
     ]
    },
    {
     "name": "stderr",
     "output_type": "stream",
     "text": [
      "Gaps to simplify in region 45: 100%|████████| 1592/1592 [00:47<00:00, 33.70it/s]\n",
      "Gaps to fill in region 45: 100%|████████████████| 29/29 [00:01<00:00, 23.00it/s]\n"
     ]
    },
    {
     "name": "stdout",
     "output_type": "stream",
     "text": [
      "WARNING: A component of the geometry at index 1958 may have been disconnected!\n",
      "WARNING: A component of the geometry at index 2245 may have been disconnected!\n"
     ]
    }
   ],
   "source": [
    "vest_base = add_vest_base(vest_base_data, start_col, year, county = county_df)"
   ]
  },
  {
   "cell_type": "code",
   "execution_count": 30,
   "metadata": {},
   "outputs": [
    {
     "name": "stdout",
     "output_type": "stream",
     "text": [
      "[0.0, 0.0, 0.0, 0.0, 0.0, 0.0, 0.0, 0.0, 0.0, 0.0, 0.0, 0.0, 0.0, 0.0, 0.0, 0.0, 0.0, 0.0, 0.0, 0.0, 0.0, 0.0, 0.0, 0.0, 0.0, 0.0, 0.0, 0.0, 0.0, 0.0, 0.0, 0.0, 0.0, 0.0, 0.0, 0.0, 0.0, 0.0, 0.0, 0.0, 0.0, 0.0, 0.0, 0.0, 0.0, 0.0, 0.0, 0.0, 0.0, 0.0, 0.0, 0.0, 0.0, 0.0, 0.0, 0.0, 0.0, 0.0, 0.0, 0.0, 0.0, 0.0, 0.0, 0.0, 0.0, 0.0, 0.0, 0.0, 0.0, 0.0, 0.0, 0.0, 0.0, 0.0, 0.0, 0.0, 0.0, 0.0, 0.0, 0.0, 0.0, 0.0, 0.0, 0.0, 0.0, 0.0, 0.0, 0.0, 0.0, 0.0, 0.0, 0.0, 0.0, 0.0, 0.0, 0.0, 0.0, 0.0, 0.0, 0.0, 0.0, 0.0, 0.0, 0.0, 0.0, 0.0, 0.0, 0.0, 0.0, 0.0, 0.0, 0.0, 0.0, 0.0, 0.0, 0.0, 0.0, 0.0, 0.0, 0.0, 0.0, 0.0, 0.0, 0.0, 0.0, 0.0, 0.0, 0.0, 0.0, 0.0, 0.0, 0.0, 0.0, 0.0, 0.0, 0.0, 0.0, 0.0, 0.0, 0.0, 0.0, 0.0, 0.0, 0.0, 0.0, 0.0, 0.0, 0.0, 0.0, 0.0, 0.0, 0.0, 0.0, 0.0, 0.0, 0.0, 0.0, 0.0, 0.0, 0.0, 0.0, 0.0, 0.0, 0.0, 0.0, 0.0, 0.0, 0.0, 0.0, 0.0, 0.0, 0.0, 0.0, 0.0, 0.0, 0.0, 0.0, 0.0, 0.0, 0.0, 0.0, 0.0, 0.0, 0.0, 0.0, 0.0, 0.0, 0.0, 0.0, 0.0, 0.0, 0.0, 0.0, 0.0, 0.0, 0.0, 0.0, 0.0, 0.0, 0.0, 0.0, 0.0, 0.0, 0.0, 0.0, 0.0, 0.0, 0.0, 0.0, 0.0, 0.0, 0.0, 0.0, 0.0, 0.0, 0.0, 0.0, 0.0, 0.0, 0.0, 0.0, 0.0, 0.0, 0.0, 0.0, 0.0, 0.0, 0.0, 0.0, 0.0, 0.0, 0.0, 0.0, 0.0, 0.0, 0.0, 0.0, 0.0, 0.0, 0.0, 0.0, 0.0, 0.0, 0.0, 0.0, 0.0, 0.0, 0.0, 0.0, 0.0, 0.0, 0.0, 0.0, 0.0, 0.0, 0.0, 0.0, 0.0, 0.0, 0.0, 0.0, 0.0, 0.0, 0.0, 0.0, 0.0, 0.0, 0.0, 0.0, 0.0, 0.0, 0.0, 0.0, 0.0, 0.0, 0.0, 0.0, 0.0, 0.0, 0.0, 0.0, 0.0, 0.0, 0.0, 0.0, 0.0, 0.0, 0.0, 0.0, 0.0, 0.0, 0.0, 0.0, 0.0, 0.0, 0.0, 0.0, 0.0, 0.0, 0.0, 0.0, 0.0, 0.0, 0.0, 0.0, 0.0, 0.0, 0.0, 0.0, 0.0, 0.0, 0.0, 0.0, 0.0, 0.0, 0.0, 0.0, 0.0, 0.0, 0.0, 0.0, 0.0, 0.0, 0.0, 0.0, 0.0, 0.0, 0.0, 0.0, 0.0, 0.0, 0.0, 0.0, 0.0, 0.0, 0.0, 0.0, 0.0, 0.0, 0.0, 0.0, 0.0, 0.0, 0.0, 0.0, 0.0, 0.0, 0.0, 0.0, 0.0, 0.0, 0.0, 0.0, 0.0, 0.0, 0.0, 0.0, 0.0, 0.0, 0.0, 0.0, 0.0, 0.0, 0.0, 0.0, 0.0, 0.0, 0.0, 0.0, 0.0, 0.0, 0.0, 0.0, 0.0, 0.0, 0.0, 0.0, 0.0, 0.0, 0.0, 0.0, 0.0, 0.0, 0.0, 0.0, 0.0, 0.0, 0.0, 0.0, 0.0, 0.0, 0.0, 0.0, 0.0, 0.0, 0.0, 0.0, 0.0, 0.0, 0.0, 0.0, 0.0, 0.0, 0.0, 0.0, 0.0, 0.0, 0.0, 0.0, 0.0, 0.0, 0.0, 0.0, 0.0, 0.0, 0.0, 0.0, 0.0, 0.0, 0.0, 0.0, 0.0, 0.0, 0.0, 0.0, 0.0, 0.0, 0.0, 0.0, 0.0, 0.0, 0.0, 0.0, 0.0, 0.0, 0.0, 0.0, 0.0, 0.0, 0.0, 0.0, 0.0, 0.0, 0.0, 0.0, 0.0, 0.0, 0.0, 0.0, 0.0, 0.0, 0.0, 0.0, 0.0, 0.0, 0.0, 0.0, 0.0, 0.0, 0.0, 0.0, 0.0, 0.0, 0.0, 0.0, 0.0, 0.0, 0.0, 0.0, 0.0, 0.0, 0.0, 0.0, 0.0, 0.0, 0.0, 0.0, 0.0, 0.0, 0.0, 0.0, 0.0, 0.0, 0.0, 0.0, 0.0, 0.0, 0.0, 0.0, 0.0, 0.0, 0.0, 0.0, 0.0, 0.0, 0.0, 0.0, 0.0, 0.0, 0.0, 0.0, 0.0, 0.0, 0.0, 0.0, 0.0, 0.0, 0.0, 0.0, 0.0, 0.0, 0.0, 0.0, 0.0, 0.0, 0.0, 0.0, 0.0, 0.0, 0.0, 0.0, 0.0, 0.0, 0.0, 0.0, 0.0, 0.0, 0.0, 0.0, 0.0, 0.0, 0.0, 0.0, 0.0, 0.0, 0.0, 0.0, 0.0, 0.0, 0.0, 0.0, 0.0, 0.0, 0.0, 0.0, 0.0, 0.0, 0.0, 0.0, 0.0, 0.0, 0.0, 0.0, 0.0, 0.0, 0.0, 0.0, 0.0, 0.0, 0.0, 0.0, 0.0, 0.0, 0.0, 0.0, 0.0, 0.0, 0.0, 0.0, 0.0, 0.0, 0.0, 0.0, 0.0, 0.0, 0.0, 0.0, 0.0, 0.0, 0.0, 0.0, 0.0, 0.0, 0.0, 0.0, 0.0, 0.0, 0.0, 0.0, 0.0, 0.0, 0.0, 0.0, 0.0, 0.0, 0.0, 0.0, 0.0, 0.0, 0.0, 0.0, 0.0, 0.0, 0.0, 0.0, 0.0, 0.0, 0.0, 0.0, 0.0, 0.0, 0.0, 0.0, 0.0, 0.0, 0.0, 0.0, 0.0, 0.0, 0.0, 0.0, 0.0, 0.0, 0.0, 0.0, 0.0, 0.0, 0.0, 0.0, 0.0, 0.0, 0.0, 0.0, 0.0, 0.0, 0.0, 0.0, 0.0, 0.0, 0.0, 0.0, 0.0, 0.0, 0.0, 0.0, 0.0, 0.0, 0.0, 0.0, 0.0, 0.0, 0.0, 0.0, 0.0, 0.0, 0.0, 0.0, 0.0, 0.0, 0.0, 0.0, 0.0, 0.0, 0.0, 0.0, 0.0, 0.0, 0.0, 0.0, 0.0, 0.0, 0.0, 0.0, 0.0, 7.753832015331069e-06, 7.753832015331069e-06, 1.0942195710352953e-05, 1.0942195710352953e-05, 1.4225830512195e-05, 1.4225830512195e-05, 1.4788021297483232e-05, 1.4788021297483232e-05, 2.274028244482227e-05, 2.274028244482227e-05, 2.682570299482804e-05, 2.682570299482804e-05, 4.4273474477811046e-05, 4.4273474477811046e-05, 5.247941199815564e-05, 5.247941199815564e-05, 5.766846175656494e-05, 5.766846175656494e-05, 0.0029333670589585603, 0.0029333670589585603, 0.00752352682899645, 0.00752352682899645, 0.011261823073182306, 0.011261823073182306, 0.025354938798930374, 0.025354938798930374, 0.036439331612135285, 0.036439331612135285, 0.10275688245023744, 0.10275688245023744, 0.19215473164484984, 0.19215473164484984, 0.32897300896445514, 0.32897300896445514, 0.4132490627799676, 0.4132490627799676, 0.41495993523788527, 0.41495993523788527, 0.460644302997825, 0.460644302997825, 0.49402623808636986, 0.49402623808636986, 0.5852643631377988, 0.5852643631377988, 0.5964225702426335, 0.5964225702426335, 0.6221330179516658, 0.6221330179516658, 0.6503347887585379, 0.6503347887585379, 0.6576935752511252, 0.6576935752511252, 0.7048255484001266, 0.7048255484001266, 0.9550666290131621, 0.9550666290131621, 1.0868633594730213, 1.0868633594730213, 1.4157150250478396, 1.4157150250478396, 1.556440901113512, 1.556440901113512, 1.6032817071848608, 1.6032817071848608, 1.6255435134347582, 1.6255435134347582, 2.3506409541250024, 2.3506409541250024, 2.4895975598512314, 2.489597559851232, 4.62948426514301, 4.62948426514301, 6.371025715508151, 6.371025715508151, 6.378206783213743, 6.378206783213743, 6.7525359057690695, 6.7525359057690695, 6.7561291425727585, 6.7561291425727585, 6.945871334368251, 6.945871334368251, 7.825404866274519, 7.825404866274519, 8.821863667493249, 8.821863667493249, 9.816068764117974, 9.816068764117974, 10.681537708241772, 10.681537708241772, 11.644886642014217, 11.644886642014217, 11.8500131411473, 11.8500131411473, 11.98161615141161, 11.98161615141161, 12.851454578563834, 12.851454578563835, 12.901365710892328, 12.901365710892328, 13.405114387603199, 13.405114387603199, 13.481081191898644, 13.481081191898644, 14.499064464982482, 14.499064464982482, 14.545133703679092, 14.545133703679092, 15.079804280456107, 15.079804280456107, 16.317562420503783, 16.317562420503783, 16.89438735763611, 16.89438735763611, 17.825195867934926, 17.82519586793493, 19.138133889974224, 19.138133889974224, 19.34826950809375, 19.34826950809375, 19.863732309319765, 19.863732309319765, 20.707883723147347, 20.707883723147347, 20.877838778457942, 20.877838778457942, 21.176858814025472, 21.176858814025472, 21.681331114452433, 21.681331114452433, 22.051285484036125, 22.051285484036125, 23.404240736059183, 23.404240736059183, 24.29121888887783, 24.29121888887783, 25.679027099344154, 25.679027099344154, 28.074802951297283, 28.074802951297283, 30.35384588333105, 30.353845883331054, 30.679113513560196, 30.679113513560196, 31.939971168278877, 31.939971168278877, 32.16468914805416, 32.16468914805416, 33.08300373309144, 33.08300373309144, 36.13444412396765, 36.13444412396765, 36.48184623029652, 36.481846230296526, 37.13175862029318, 37.13175862029318, 37.84972137303524, 37.84972137303524, 38.19659715077069, 38.1965971507707, 39.28346760134722, 39.283467601347226, 39.66520688653521, 39.66520688653521, 41.70600086440301, 41.70600086440301, 41.83778650233782, 41.83778650233783, 43.040508404138656, 43.040508404138656, 43.359876151895875, 43.359876151895875, 44.177571228814436, 44.177571228814436, 44.614769996628084, 44.614769996628084, 46.48472833900921, 46.48472833900921, 46.804198020729594, 46.804198020729594, 47.11622237858727, 47.11622237858727, 47.23333652833308, 47.23333652833308, 48.45629640326473, 48.45629640326473, 50.109283038174766, 50.109283038174766, 50.42601675041482, 50.42601675041482, 54.25791931318996, 54.257919313189966, 56.203772207166374, 56.203772207166374, 56.33328862890585, 56.33328862890585, 56.81549326066876, 56.81549326066876, 58.15934572176445, 58.15934572176445, 59.61628323939178, 59.616283239391784, 59.815406623496116, 59.815406623496116, 61.168879819411444, 61.168879819411444, 61.593259811047645, 61.59325981104765, 61.96861270288976, 61.96861270288976, 63.41457385743466, 63.41457385743466, 65.54822865928409, 65.54822865928409, 69.62304017927768, 69.62304017927768, 73.17596854897347, 73.17596854897349, 74.21379459918951, 74.21379459918951, 75.46443901290522, 75.46443901290523, 78.74559903593128, 78.74559903593128, 79.84207256800958, 79.84207256800958, 80.72301289136766, 80.72301289136766, 82.80235035302378, 82.80235035302378, 84.9277936640847, 84.9277936640847, 87.40488254838164, 87.40488254838164, 88.16469878109808, 88.16469878109808, 88.36010324411824, 88.36010324411824, 88.49685304272221, 88.49685304272221, 90.58349781326956, 90.58349781326956, 91.30342747978943, 91.30342747978943, 91.81729778895826, 91.81729778895826, 92.51745303896328, 92.51745303896331, 92.79784556024072, 92.79784556024072, 93.2759881378005, 93.27598813780052, 93.88927567409058, 93.88927567409058, 94.11096630813216, 94.11096630813216, 95.21629414382367, 95.21629414382367, 97.37836484026009, 97.3783648402601, 98.03239524622299, 98.032395246223, 100.47207943786452, 100.47207943786452, 100.57055418187531, 100.57055418187531, 103.40069957345327, 103.40069957345327, 103.927776690692, 103.92777669069201, 105.3065385595854, 105.3065385595854, 105.75764135692397, 105.75764135692397, 109.3993825326581, 109.39938253265811, 114.01010954347832, 114.01010954347832, 114.63694548234501, 114.63694548234503, 116.02854000686436, 116.02854000686438, 116.46750021504461, 116.46750021504461, 116.63007249726492, 116.63007249726492, 116.70949777923585, 116.70949777923585, 117.43633777410389, 117.43633777410389, 118.89976795427981, 118.89976795427982, 119.00240704937242, 119.00240704937244, 119.21883646458178, 119.21883646458178, 119.96214098036612, 119.96214098036612, 123.13301018438175, 123.13301018438176, 123.53934756028762, 123.53934756028762, 127.26334372414858, 127.2633437241486, 128.330072309154, 128.330072309154, 128.69524655235418, 128.69524655235418, 128.72901090163796, 128.72901090163796, 129.75481940472807, 129.75481940472807, 130.79351160746654, 130.79351160746654, 131.4131413243804, 131.4131413243804, 132.31778257117287, 132.31778257117287, 133.19035229593425, 133.19035229593428, 133.25708392297054, 133.25708392297054, 138.43806851327014, 138.43806851327014, 139.30966028623655, 139.30966028623655]\n"
     ]
    }
   ],
   "source": [
    "borders = check_small_boundary_lengths(vest_base)\n",
    "print(borders[:1000])"
   ]
  },
  {
   "cell_type": "code",
   "execution_count": 31,
   "metadata": {},
   "outputs": [
    {
     "name": "stdout",
     "output_type": "stream",
     "text": [
      "Snapping all geometries to a grid with precision 10^( -5 ) to avoid GEOS errors.\n",
      "Identifying overlaps...\n"
     ]
    },
    {
     "name": "stderr",
     "output_type": "stream",
     "text": [
      "100%|█████████████████████████████████████| 2279/2279 [00:00<00:00, 4184.79it/s]\n"
     ]
    },
    {
     "name": "stdout",
     "output_type": "stream",
     "text": [
      "Resolving overlaps...\n",
      "Assigning order 2 pieces...\n",
      "Assigning order 3 pieces...\n",
      "Filling gaps...\n"
     ]
    },
    {
     "name": "stderr",
     "output_type": "stream",
     "text": [
      "Gaps to simplify: 100%|███████████████████████████| 1/1 [00:00<00:00,  8.37it/s]\n",
      "Gaps to fill: 0it [00:00, ?it/s]\n"
     ]
    },
    {
     "name": "stdout",
     "output_type": "stream",
     "text": [
      "Converting small rook adjacencies to queen...\n"
     ]
    },
    {
     "name": "stderr",
     "output_type": "stream",
     "text": [
      "100%|██████████████████████████████████████| 2263/2263 [00:02<00:00, 995.54it/s]\n",
      "100%|███████████████████████████████████████████| 4/4 [00:00<00:00, 2925.92it/s]\n",
      "100%|███████████████████████████████████████████| 4/4 [00:00<00:00, 3250.14it/s]\n",
      "100%|███████████████████████████████████████████| 4/4 [00:00<00:00, 2806.96it/s]\n",
      "100%|███████████████████████████████████████████| 4/4 [00:00<00:00, 2945.44it/s]\n",
      "100%|███████████████████████████████████████████| 4/4 [00:00<00:00, 3322.22it/s]\n",
      "100%|███████████████████████████████████████████| 4/4 [00:00<00:00, 3174.50it/s]\n",
      "100%|███████████████████████████████████████████| 4/4 [00:00<00:00, 3127.16it/s]\n",
      "100%|███████████████████████████████████████████| 4/4 [00:00<00:00, 2928.98it/s]\n",
      "100%|███████████████████████████████████████████| 4/4 [00:00<00:00, 2873.30it/s]\n",
      "100%|███████████████████████████████████████████| 4/4 [00:00<00:00, 3194.44it/s]\n",
      "100%|███████████████████████████████████████████| 4/4 [00:00<00:00, 3028.38it/s]\n",
      "100%|███████████████████████████████████████████| 4/4 [00:00<00:00, 3092.00it/s]\n",
      "100%|███████████████████████████████████████████| 4/4 [00:00<00:00, 2630.07it/s]\n",
      "100%|███████████████████████████████████████████| 4/4 [00:00<00:00, 3144.75it/s]\n",
      "100%|███████████████████████████████████████████| 4/4 [00:00<00:00, 3241.97it/s]\n",
      "100%|███████████████████████████████████████████| 4/4 [00:00<00:00, 3026.19it/s]\n",
      "100%|███████████████████████████████████████████| 4/4 [00:00<00:00, 3081.78it/s]\n",
      "100%|███████████████████████████████████████████| 4/4 [00:00<00:00, 3179.31it/s]\n",
      "100%|███████████████████████████████████████████| 4/4 [00:00<00:00, 3241.35it/s]\n",
      "100%|███████████████████████████████████████████| 4/4 [00:00<00:00, 3302.60it/s]\n",
      "100%|███████████████████████████████████████████| 4/4 [00:00<00:00, 3509.14it/s]\n",
      "100%|███████████████████████████████████████████| 4/4 [00:00<00:00, 3093.14it/s]\n",
      "100%|███████████████████████████████████████████| 4/4 [00:00<00:00, 2830.64it/s]\n",
      "100%|███████████████████████████████████████████| 4/4 [00:00<00:00, 2803.21it/s]\n",
      "100%|███████████████████████████████████████████| 5/5 [00:00<00:00, 3359.74it/s]\n",
      "100%|███████████████████████████████████████████| 5/5 [00:00<00:00, 2992.51it/s]\n",
      "100%|███████████████████████████████████████████| 4/4 [00:00<00:00, 3439.36it/s]\n",
      "100%|███████████████████████████████████████████| 4/4 [00:00<00:00, 3238.84it/s]\n",
      "100%|███████████████████████████████████████████| 4/4 [00:00<00:00, 3117.86it/s]\n",
      "100%|███████████████████████████████████████████| 5/5 [00:00<00:00, 3138.51it/s]\n",
      "100%|███████████████████████████████████████████| 4/4 [00:00<00:00, 3169.70it/s]\n",
      "100%|███████████████████████████████████████████| 4/4 [00:00<00:00, 3129.49it/s]\n",
      "100%|███████████████████████████████████████████| 4/4 [00:00<00:00, 2896.12it/s]\n",
      "100%|███████████████████████████████████████████| 4/4 [00:00<00:00, 3390.02it/s]\n",
      "100%|███████████████████████████████████████████| 4/4 [00:00<00:00, 3115.55it/s]\n",
      "100%|███████████████████████████████████████████| 5/5 [00:00<00:00, 3242.85it/s]\n",
      "100%|███████████████████████████████████████████| 4/4 [00:00<00:00, 3048.74it/s]\n",
      "100%|███████████████████████████████████████████| 4/4 [00:00<00:00, 2925.92it/s]\n",
      "100%|███████████████████████████████████████████| 5/5 [00:00<00:00, 3373.80it/s]\n",
      "100%|███████████████████████████████████████████| 4/4 [00:00<00:00, 3184.14it/s]\n",
      "100%|███████████████████████████████████████████| 4/4 [00:00<00:00, 3115.55it/s]\n",
      "100%|███████████████████████████████████████████| 4/4 [00:00<00:00, 2894.12it/s]\n",
      "100%|███████████████████████████████████████████| 4/4 [00:00<00:00, 3058.74it/s]\n",
      "100%|███████████████████████████████████████████| 4/4 [00:00<00:00, 2867.41it/s]\n",
      "100%|███████████████████████████████████████████| 4/4 [00:00<00:00, 3086.32it/s]\n",
      "100%|███████████████████████████████████████████| 4/4 [00:00<00:00, 3000.75it/s]\n",
      "100%|███████████████████████████████████████████| 4/4 [00:00<00:00, 3238.84it/s]\n",
      "100%|███████████████████████████████████████████| 4/4 [00:00<00:00, 3276.16it/s]\n",
      "100%|███████████████████████████████████████████| 4/4 [00:00<00:00, 2686.07it/s]\n",
      "100%|███████████████████████████████████████████| 4/4 [00:00<00:00, 2992.19it/s]\n",
      "100%|███████████████████████████████████████████| 5/5 [00:00<00:00, 2688.31it/s]\n",
      "100%|███████████████████████████████████████████| 4/4 [00:00<00:00, 2995.93it/s]\n",
      "100%|███████████████████████████████████████████| 4/4 [00:00<00:00, 2706.44it/s]\n",
      "100%|███████████████████████████████████████████| 4/4 [00:00<00:00, 2978.38it/s]\n",
      "100%|███████████████████████████████████████████| 4/4 [00:00<00:00, 3283.86it/s]\n",
      "100%|███████████████████████████████████████████| 6/6 [00:00<00:00, 3487.99it/s]\n",
      "100%|███████████████████████████████████████████| 4/4 [00:00<00:00, 3019.11it/s]\n",
      "100%|███████████████████████████████████████████| 4/4 [00:00<00:00, 3101.15it/s]\n",
      "100%|███████████████████████████████████████████| 4/4 [00:00<00:00, 2665.17it/s]\n",
      "100%|███████████████████████████████████████████| 6/6 [00:00<00:00, 1585.55it/s]\n",
      "100%|███████████████████████████████████████████| 4/4 [00:00<00:00, 3114.97it/s]\n",
      "100%|███████████████████████████████████████████| 4/4 [00:00<00:00, 3164.92it/s]\n",
      "100%|███████████████████████████████████████████| 4/4 [00:00<00:00, 2924.39it/s]\n",
      "100%|███████████████████████████████████████████| 3/3 [00:00<00:00, 2608.40it/s]\n",
      "100%|███████████████████████████████████████████| 4/4 [00:00<00:00, 2933.08it/s]\n",
      "100%|███████████████████████████████████████████| 4/4 [00:00<00:00, 2954.26it/s]\n",
      "100%|███████████████████████████████████████████| 4/4 [00:00<00:00, 3495.98it/s]\n",
      "100%|███████████████████████████████████████████| 4/4 [00:00<00:00, 2520.62it/s]\n",
      "100%|███████████████████████████████████████████| 4/4 [00:00<00:00, 3184.14it/s]\n",
      "100%|███████████████████████████████████████████| 4/4 [00:00<00:00, 2906.66it/s]\n",
      "100%|██████████████████████████████████████| 2263/2263 [00:02<00:00, 990.82it/s]\n"
     ]
    }
   ],
   "source": [
    "vest_base = do_smart_repair(vest_base, min_rook_length = 30.5)"
   ]
  },
  {
   "cell_type": "code",
   "execution_count": 32,
   "metadata": {},
   "outputs": [
    {
     "name": "stderr",
     "output_type": "stream",
     "text": [
      "100%|█████████████████████████████████████| 2263/2263 [00:02<00:00, 1006.97it/s]\n"
     ]
    },
    {
     "data": {
      "text/plain": [
       "True"
      ]
     },
     "execution_count": 32,
     "metadata": {},
     "output_type": "execute_result"
    }
   ],
   "source": [
    "maup.doctor(vest_base)"
   ]
  },
  {
   "cell_type": "code",
   "execution_count": 33,
   "metadata": {},
   "outputs": [
    {
     "name": "stderr",
     "output_type": "stream",
     "text": [
      "100%|██████████████████████████████████████| 2263/2263 [00:02<00:00, 876.24it/s]\n",
      "100%|██████████████████████████████████████| 2263/2263 [00:11<00:00, 203.27it/s]\n"
     ]
    }
   ],
   "source": [
    "# vap and population have the same GEOID20\n",
    "blocks_to_precincts_assignment = maup.assign(population_df.geometry, vest_base.geometry)"
   ]
  },
  {
   "cell_type": "code",
   "execution_count": 34,
   "metadata": {},
   "outputs": [],
   "source": [
    "vest_base[pop_col] = population_df[pop_col].groupby(blocks_to_precincts_assignment).sum()"
   ]
  },
  {
   "cell_type": "code",
   "execution_count": 35,
   "metadata": {},
   "outputs": [],
   "source": [
    "election_df = gpd.GeoDataFrame(vest_base)"
   ]
  },
  {
   "cell_type": "code",
   "execution_count": 36,
   "metadata": {},
   "outputs": [
    {
     "data": {
      "text/plain": [
       "Index(['CODE_NAME', 'COUNTY', 'PCODE', 'PRE20D', 'PRE20O', 'PRE20R', 'USS20D',\n",
       "       'USS20O', 'USS20R', 'geometry', 'TOTPOP', 'HISP', 'NH_WHITE',\n",
       "       'NH_BLACK', 'NH_AMIN', 'NH_ASIAN', 'NH_NHPI', 'NH_OTHER', 'NH_2MORE',\n",
       "       'H_WHITE', 'H_BLACK', 'H_AMIN', 'H_ASIAN', 'H_NHPI', 'H_OTHER',\n",
       "       'H_2MORE', 'VAP', 'HVAP', 'WVAP', 'BVAP', 'AMINVAP', 'ASIANVAP',\n",
       "       'NHPIVAP', 'OTHERVAP', '2MOREVAP'],\n",
       "      dtype='object')"
      ]
     },
     "execution_count": 36,
     "metadata": {},
     "output_type": "execute_result"
    }
   ],
   "source": [
    "election_df.columns"
   ]
  },
  {
   "cell_type": "markdown",
   "metadata": {},
   "source": [
    "## Check if population agrees"
   ]
  },
  {
   "cell_type": "code",
   "execution_count": 38,
   "metadata": {},
   "outputs": [
    {
     "name": "stdout",
     "output_type": "stream",
     "text": [
      "population agrees\n"
     ]
    }
   ],
   "source": [
    "check_population(population_df, vest_base)"
   ]
  },
  {
   "cell_type": "markdown",
   "metadata": {},
   "source": [
    "## Add more vest data"
   ]
  },
  {
   "cell_type": "code",
   "execution_count": 40,
   "metadata": {},
   "outputs": [],
   "source": [
    "vest18 = gpd.read_file(vest18_data)\n",
    "vest16 = gpd.read_file(vest16_data)"
   ]
  },
  {
   "cell_type": "code",
   "execution_count": 41,
   "metadata": {},
   "outputs": [
    {
     "data": {
      "text/plain": [
       "Index(['STATEFP', 'COUNTYFP', 'VTDST', 'NAME', 'G18GOVDSMI', 'G18GOVRMCM',\n",
       "       'G18GOVOWRI', 'G18SOSDWHI', 'G18SOSRHAM', 'G18SOSOWRI', 'G18TREDGLE',\n",
       "       'G18TREWGLE', 'G18TRERLOF', 'G18TREAWOR', 'G18TREOWRI', 'G18ATGDANA',\n",
       "       'G18ATGWANA', 'G18ATGRWIL', 'G18ATGOWRI', 'G18COMRECK', 'G18COMOWRI',\n",
       "       'G18SPIRMIT', 'G18SPIOWRI', 'G18AGRUNEL', 'G18AGRGEDM', 'G18AGRRWEA',\n",
       "       'G18AGROWRI', 'geometry'],\n",
       "      dtype='object')"
      ]
     },
     "execution_count": 41,
     "metadata": {},
     "output_type": "execute_result"
    }
   ],
   "source": [
    "vest18.columns"
   ]
  },
  {
   "cell_type": "code",
   "execution_count": 42,
   "metadata": {},
   "outputs": [
    {
     "data": {
      "text/plain": [
       "Index(['STATEFP', 'COUNTYFP', 'PCODE', 'NAME', 'G16PRERTRU', 'G16PREDCLI',\n",
       "       'G16PRELJOH', 'G16PREGSTE', 'G16PREIMCM', 'G16PRECCAS', 'G16PREASKE',\n",
       "       'G16USSRSCO', 'G16USSDDIX', 'G16USSLBLE', 'G16USSASCA', 'G16USSOWRI',\n",
       "       'geometry'],\n",
       "      dtype='object')"
      ]
     },
     "execution_count": 42,
     "metadata": {},
     "output_type": "execute_result"
    }
   ],
   "source": [
    "vest16.columns"
   ]
  },
  {
   "cell_type": "code",
   "execution_count": 43,
   "metadata": {},
   "outputs": [
    {
     "name": "stderr",
     "output_type": "stream",
     "text": [
      "100%|██████████████████████████████████████| 2247/2247 [00:02<00:00, 963.81it/s]\n"
     ]
    },
    {
     "name": "stdout",
     "output_type": "stream",
     "text": [
      "There are 5 overlaps.\n",
      "There are 20 holes.\n",
      "There are some invalid geometries.\n",
      "Snapping all geometries to a grid with precision 10^( -5 ) to avoid GEOS errors.\n",
      "Identifying overlaps...\n"
     ]
    },
    {
     "name": "stderr",
     "output_type": "stream",
     "text": [
      "100%|█████████████████████████████████████| 2333/2333 [00:00<00:00, 4101.42it/s]\n"
     ]
    },
    {
     "name": "stdout",
     "output_type": "stream",
     "text": [
      "Resolving overlaps...\n",
      "Assigning order 2 pieces...\n",
      "Filling gaps...\n"
     ]
    },
    {
     "name": "stderr",
     "output_type": "stream",
     "text": [
      "Gaps to simplify: 100%|█████████████████████████| 19/19 [00:02<00:00,  8.93it/s]\n",
      "Gaps to fill: 0it [00:00, ?it/s]\n",
      "100%|██████████████████████████████████████| 2247/2247 [00:02<00:00, 989.75it/s]\n",
      "100%|██████████████████████████████████████| 2247/2247 [00:02<00:00, 808.62it/s]\n",
      "100%|██████████████████████████████████████| 2247/2247 [00:11<00:00, 189.52it/s]\n",
      "100%|██████████████████████████████████████| 2263/2263 [00:02<00:00, 844.72it/s]\n",
      "100%|██████████████████████████████████████| 2263/2263 [00:11<00:00, 203.08it/s]\n"
     ]
    },
    {
     "name": "stdout",
     "output_type": "stream",
     "text": [
      "population agrees\n"
     ]
    }
   ],
   "source": [
    "# check the result here\n",
    "election_df = add_vest(vest18, election_df, '18', population_df, 4)"
   ]
  },
  {
   "cell_type": "code",
   "execution_count": 44,
   "metadata": {},
   "outputs": [
    {
     "data": {
      "text/plain": [
       "Index(['2MOREVAP', 'AGR18O', 'AGR18R', 'AMINVAP', 'ASIANVAP', 'ATG18D',\n",
       "       'ATG18O', 'ATG18R', 'BVAP', 'CODE_NAME', 'COM18O', 'COM18R', 'COUNTY',\n",
       "       'GOV18D', 'GOV18O', 'GOV18R', 'HISP', 'HVAP', 'H_2MORE', 'H_AMIN',\n",
       "       'H_ASIAN', 'H_BLACK', 'H_NHPI', 'H_OTHER', 'H_WHITE', 'NHPIVAP',\n",
       "       'NH_2MORE', 'NH_AMIN', 'NH_ASIAN', 'NH_BLACK', 'NH_NHPI', 'NH_OTHER',\n",
       "       'NH_WHITE', 'OTHERVAP', 'PCODE', 'PRE20D', 'PRE20O', 'PRE20R', 'SOS18D',\n",
       "       'SOS18O', 'SOS18R', 'SPI18O', 'SPI18R', 'TOTPOP', 'TRE18D', 'TRE18O',\n",
       "       'TRE18R', 'USS20D', 'USS20O', 'USS20R', 'VAP', 'WVAP', 'geometry'],\n",
       "      dtype='object')"
      ]
     },
     "execution_count": 44,
     "metadata": {},
     "output_type": "execute_result"
    }
   ],
   "source": [
    "election_df.columns"
   ]
  },
  {
   "cell_type": "code",
   "execution_count": 45,
   "metadata": {},
   "outputs": [
    {
     "name": "stderr",
     "output_type": "stream",
     "text": [
      "100%|█████████████████████████████████████| 2234/2234 [00:02<00:00, 1021.16it/s]\n"
     ]
    },
    {
     "name": "stdout",
     "output_type": "stream",
     "text": [
      "There are 939 overlaps.\n",
      "There are 5816 holes.\n",
      "There are some invalid geometries.\n",
      "Snapping all geometries to a grid with precision 10^( -5 ) to avoid GEOS errors.\n",
      "Identifying overlaps...\n"
     ]
    },
    {
     "name": "stderr",
     "output_type": "stream",
     "text": [
      "100%|███████████████████████████████████| 12900/12900 [00:03<00:00, 4218.84it/s]\n"
     ]
    },
    {
     "name": "stdout",
     "output_type": "stream",
     "text": [
      "Resolving overlaps...\n",
      "Assigning order 2 pieces...\n",
      "Assigning order 3 pieces...\n",
      "Filling gaps...\n"
     ]
    },
    {
     "name": "stderr",
     "output_type": "stream",
     "text": [
      "Gaps to simplify: 100%|█████████████████████| 5352/5352 [11:02<00:00,  8.08it/s]\n",
      "Gaps to fill: 100%|███████████████████████████| 315/315 [01:03<00:00,  4.99it/s]\n",
      "100%|█████████████████████████████████████| 2234/2234 [00:01<00:00, 1145.66it/s]\n",
      "100%|██████████████████████████████████████| 2234/2234 [00:02<00:00, 810.54it/s]\n",
      "100%|██████████████████████████████████████| 2234/2234 [00:09<00:00, 236.03it/s]\n",
      "100%|██████████████████████████████████████| 2263/2263 [00:02<00:00, 850.26it/s]\n",
      "100%|██████████████████████████████████████| 2263/2263 [00:10<00:00, 218.33it/s]\n"
     ]
    },
    {
     "name": "stdout",
     "output_type": "stream",
     "text": [
      "population agrees\n"
     ]
    }
   ],
   "source": [
    "election_df = add_vest(vest16, election_df, '16', population_df, 4)"
   ]
  },
  {
   "cell_type": "markdown",
   "metadata": {},
   "source": [
    "##  Add the district data"
   ]
  },
  {
   "cell_type": "code",
   "execution_count": 47,
   "metadata": {},
   "outputs": [],
   "source": [
    "cong_df = gpd.read_file(cd_data)\n",
    "cong_df = cong_df.to_crs(cong_df.estimate_utm_crs())\n",
    "send = gpd.read_file(send_data)\n",
    "send = send.to_crs(send.estimate_utm_crs())\n",
    "hdist = gpd.read_file(hdist_data)\n",
    "hdist = hdist.to_crs(hdist.estimate_utm_crs())"
   ]
  },
  {
   "cell_type": "code",
   "execution_count": 48,
   "metadata": {},
   "outputs": [
    {
     "data": {
      "text/html": [
       "<div>\n",
       "<style scoped>\n",
       "    .dataframe tbody tr th:only-of-type {\n",
       "        vertical-align: middle;\n",
       "    }\n",
       "\n",
       "    .dataframe tbody tr th {\n",
       "        vertical-align: top;\n",
       "    }\n",
       "\n",
       "    .dataframe thead th {\n",
       "        text-align: right;\n",
       "    }\n",
       "</style>\n",
       "<table border=\"1\" class=\"dataframe\">\n",
       "  <thead>\n",
       "    <tr style=\"text-align: right;\">\n",
       "      <th></th>\n",
       "      <th>DISTRICT</th>\n",
       "      <th>POPULATION</th>\n",
       "      <th>DEVIATION</th>\n",
       "      <th>F_DEVIATIO</th>\n",
       "      <th>HISPANIC_O</th>\n",
       "      <th>F_HISPANIC</th>\n",
       "      <th>NH_WHT</th>\n",
       "      <th>F_NH_WHT</th>\n",
       "      <th>NH_DOJ_BLK</th>\n",
       "      <th>F_NH_DOJ_B</th>\n",
       "      <th>F18_POP</th>\n",
       "      <th>F_18_POP</th>\n",
       "      <th>H18_POP</th>\n",
       "      <th>F_H18_POP</th>\n",
       "      <th>NH18_WHT</th>\n",
       "      <th>F_NH18_WHT</th>\n",
       "      <th>NH18_DOJ_B</th>\n",
       "      <th>F_NH18_DOJ</th>\n",
       "      <th>geometry</th>\n",
       "    </tr>\n",
       "  </thead>\n",
       "  <tbody>\n",
       "    <tr>\n",
       "      <th>0</th>\n",
       "      <td>1</td>\n",
       "      <td>731203</td>\n",
       "      <td>-1.0</td>\n",
       "      <td>-0.000001</td>\n",
       "      <td>59591</td>\n",
       "      <td>0.081497</td>\n",
       "      <td>498807</td>\n",
       "      <td>0.682173</td>\n",
       "      <td>130245</td>\n",
       "      <td>0.178124</td>\n",
       "      <td>570538</td>\n",
       "      <td>0.780273</td>\n",
       "      <td>38918</td>\n",
       "      <td>0.068213</td>\n",
       "      <td>405889</td>\n",
       "      <td>0.711414</td>\n",
       "      <td>95400</td>\n",
       "      <td>0.167211</td>\n",
       "      <td>POLYGON ((644759.644 3676026.315, 644805.109 3...</td>\n",
       "    </tr>\n",
       "    <tr>\n",
       "      <th>1</th>\n",
       "      <td>2</td>\n",
       "      <td>731203</td>\n",
       "      <td>-1.0</td>\n",
       "      <td>-0.000001</td>\n",
       "      <td>51434</td>\n",
       "      <td>0.070342</td>\n",
       "      <td>446768</td>\n",
       "      <td>0.611004</td>\n",
       "      <td>190488</td>\n",
       "      <td>0.260513</td>\n",
       "      <td>563028</td>\n",
       "      <td>0.770002</td>\n",
       "      <td>33556</td>\n",
       "      <td>0.059599</td>\n",
       "      <td>360714</td>\n",
       "      <td>0.640668</td>\n",
       "      <td>137891</td>\n",
       "      <td>0.244910</td>\n",
       "      <td>POLYGON ((487147.914 3769742.285, 487172.152 3...</td>\n",
       "    </tr>\n",
       "    <tr>\n",
       "      <th>2</th>\n",
       "      <td>3</td>\n",
       "      <td>731204</td>\n",
       "      <td>0.0</td>\n",
       "      <td>0.000000</td>\n",
       "      <td>42512</td>\n",
       "      <td>0.058140</td>\n",
       "      <td>524457</td>\n",
       "      <td>0.717251</td>\n",
       "      <td>132875</td>\n",
       "      <td>0.181721</td>\n",
       "      <td>577297</td>\n",
       "      <td>0.789516</td>\n",
       "      <td>27422</td>\n",
       "      <td>0.047501</td>\n",
       "      <td>427484</td>\n",
       "      <td>0.740492</td>\n",
       "      <td>98848</td>\n",
       "      <td>0.171226</td>\n",
       "      <td>POLYGON ((468770.281 3784116.306, 468768.622 3...</td>\n",
       "    </tr>\n",
       "    <tr>\n",
       "      <th>3</th>\n",
       "      <td>4</td>\n",
       "      <td>731204</td>\n",
       "      <td>0.0</td>\n",
       "      <td>0.000000</td>\n",
       "      <td>77653</td>\n",
       "      <td>0.106199</td>\n",
       "      <td>468620</td>\n",
       "      <td>0.640888</td>\n",
       "      <td>142090</td>\n",
       "      <td>0.194323</td>\n",
       "      <td>565412</td>\n",
       "      <td>0.773262</td>\n",
       "      <td>50888</td>\n",
       "      <td>0.090002</td>\n",
       "      <td>379099</td>\n",
       "      <td>0.670483</td>\n",
       "      <td>104145</td>\n",
       "      <td>0.184193</td>\n",
       "      <td>POLYGON ((366809.149 3846359.516, 366797.123 3...</td>\n",
       "    </tr>\n",
       "    <tr>\n",
       "      <th>4</th>\n",
       "      <td>5</td>\n",
       "      <td>731204</td>\n",
       "      <td>0.0</td>\n",
       "      <td>0.000000</td>\n",
       "      <td>39825</td>\n",
       "      <td>0.054465</td>\n",
       "      <td>468920</td>\n",
       "      <td>0.641298</td>\n",
       "      <td>182332</td>\n",
       "      <td>0.249359</td>\n",
       "      <td>562685</td>\n",
       "      <td>0.769532</td>\n",
       "      <td>25482</td>\n",
       "      <td>0.045286</td>\n",
       "      <td>374151</td>\n",
       "      <td>0.664939</td>\n",
       "      <td>135206</td>\n",
       "      <td>0.240287</td>\n",
       "      <td>POLYGON ((559900.109 3748582.657, 559922.638 3...</td>\n",
       "    </tr>\n",
       "  </tbody>\n",
       "</table>\n",
       "</div>"
      ],
      "text/plain": [
       "  DISTRICT  POPULATION  DEVIATION  F_DEVIATIO  HISPANIC_O  F_HISPANIC  NH_WHT  \\\n",
       "0        1      731203       -1.0   -0.000001       59591    0.081497  498807   \n",
       "1        2      731203       -1.0   -0.000001       51434    0.070342  446768   \n",
       "2        3      731204        0.0    0.000000       42512    0.058140  524457   \n",
       "3        4      731204        0.0    0.000000       77653    0.106199  468620   \n",
       "4        5      731204        0.0    0.000000       39825    0.054465  468920   \n",
       "\n",
       "   F_NH_WHT  NH_DOJ_BLK  F_NH_DOJ_B  F18_POP  F_18_POP  H18_POP  F_H18_POP  \\\n",
       "0  0.682173      130245    0.178124   570538  0.780273    38918   0.068213   \n",
       "1  0.611004      190488    0.260513   563028  0.770002    33556   0.059599   \n",
       "2  0.717251      132875    0.181721   577297  0.789516    27422   0.047501   \n",
       "3  0.640888      142090    0.194323   565412  0.773262    50888   0.090002   \n",
       "4  0.641298      182332    0.249359   562685  0.769532    25482   0.045286   \n",
       "\n",
       "   NH18_WHT  F_NH18_WHT  NH18_DOJ_B  F_NH18_DOJ  \\\n",
       "0    405889    0.711414       95400    0.167211   \n",
       "1    360714    0.640668      137891    0.244910   \n",
       "2    427484    0.740492       98848    0.171226   \n",
       "3    379099    0.670483      104145    0.184193   \n",
       "4    374151    0.664939      135206    0.240287   \n",
       "\n",
       "                                            geometry  \n",
       "0  POLYGON ((644759.644 3676026.315, 644805.109 3...  \n",
       "1  POLYGON ((487147.914 3769742.285, 487172.152 3...  \n",
       "2  POLYGON ((468770.281 3784116.306, 468768.622 3...  \n",
       "3  POLYGON ((366809.149 3846359.516, 366797.123 3...  \n",
       "4  POLYGON ((559900.109 3748582.657, 559922.638 3...  "
      ]
     },
     "execution_count": 48,
     "metadata": {},
     "output_type": "execute_result"
    }
   ],
   "source": [
    "cong_df.head()"
   ]
  },
  {
   "cell_type": "code",
   "execution_count": 49,
   "metadata": {},
   "outputs": [
    {
     "name": "stderr",
     "output_type": "stream",
     "text": [
      "100%|█████████████████████████████████████████████| 7/7 [00:00<00:00, 47.39it/s]\n",
      "100%|████████████████████████████████████████████| 7/7 [00:00<00:00, 104.62it/s]\n",
      "100%|█████████████████████████████████████████████| 7/7 [00:00<00:00,  7.38it/s]\n"
     ]
    }
   ],
   "source": [
    "election_df = add_district(cong_df, \"CD\", election_df, \"DISTRICT\")"
   ]
  },
  {
   "cell_type": "code",
   "execution_count": 50,
   "metadata": {},
   "outputs": [
    {
     "data": {
      "text/html": [
       "<div>\n",
       "<style scoped>\n",
       "    .dataframe tbody tr th:only-of-type {\n",
       "        vertical-align: middle;\n",
       "    }\n",
       "\n",
       "    .dataframe tbody tr th {\n",
       "        vertical-align: top;\n",
       "    }\n",
       "\n",
       "    .dataframe thead th {\n",
       "        text-align: right;\n",
       "    }\n",
       "</style>\n",
       "<table border=\"1\" class=\"dataframe\">\n",
       "  <thead>\n",
       "    <tr style=\"text-align: right;\">\n",
       "      <th></th>\n",
       "      <th>ID</th>\n",
       "      <th>AREA</th>\n",
       "      <th>DISTRICT</th>\n",
       "      <th>MEMBERS</th>\n",
       "      <th>LOCKED</th>\n",
       "      <th>NAME</th>\n",
       "      <th>POPULATION</th>\n",
       "      <th>HISPANIC_O</th>\n",
       "      <th>NH_WHT</th>\n",
       "      <th>NH_DOJ_BLK</th>\n",
       "      <th>...</th>\n",
       "      <th>F_G20P_DV</th>\n",
       "      <th>F_G20P_RV</th>\n",
       "      <th>F_G20S_DV</th>\n",
       "      <th>F_G20S_RV</th>\n",
       "      <th>MULTIPLE_F</th>\n",
       "      <th>F_INGRP_CO</th>\n",
       "      <th>F_INGRP_IN</th>\n",
       "      <th>F_PEOPLE_I</th>\n",
       "      <th>DISTRICT_L</th>\n",
       "      <th>geometry</th>\n",
       "    </tr>\n",
       "  </thead>\n",
       "  <tbody>\n",
       "    <tr>\n",
       "      <th>0</th>\n",
       "      <td>1</td>\n",
       "      <td>718.418213</td>\n",
       "      <td>1</td>\n",
       "      <td>1.0</td>\n",
       "      <td>None</td>\n",
       "      <td>None</td>\n",
       "      <td>110467</td>\n",
       "      <td>5876</td>\n",
       "      <td>88773</td>\n",
       "      <td>9028</td>\n",
       "      <td>...</td>\n",
       "      <td>0.298565</td>\n",
       "      <td>0.701435</td>\n",
       "      <td>0.300292</td>\n",
       "      <td>0.699708</td>\n",
       "      <td>1|-0.72%|29.86%|70.14%|30.03%|69.97%</td>\n",
       "      <td>0.001258</td>\n",
       "      <td>0.005404</td>\n",
       "      <td>0.074873</td>\n",
       "      <td>1|-0.72%</td>\n",
       "      <td>POLYGON ((326958.022 3880919.624, 326953.914 3...</td>\n",
       "    </tr>\n",
       "    <tr>\n",
       "      <th>1</th>\n",
       "      <td>2</td>\n",
       "      <td>707.279419</td>\n",
       "      <td>10</td>\n",
       "      <td>1.0</td>\n",
       "      <td>None</td>\n",
       "      <td>None</td>\n",
       "      <td>113230</td>\n",
       "      <td>7121</td>\n",
       "      <td>76903</td>\n",
       "      <td>24077</td>\n",
       "      <td>...</td>\n",
       "      <td>0.328773</td>\n",
       "      <td>0.671227</td>\n",
       "      <td>0.334614</td>\n",
       "      <td>0.665386</td>\n",
       "      <td>10|1.76%|32.88%|67.12%|33.46%|66.54%</td>\n",
       "      <td>0.004875</td>\n",
       "      <td>0.015738</td>\n",
       "      <td>0.031255</td>\n",
       "      <td>10|1.76%</td>\n",
       "      <td>POLYGON ((456453.361 3770744.460, 456460.192 3...</td>\n",
       "    </tr>\n",
       "    <tr>\n",
       "      <th>2</th>\n",
       "      <td>3</td>\n",
       "      <td>179.357925</td>\n",
       "      <td>11</td>\n",
       "      <td>1.0</td>\n",
       "      <td>None</td>\n",
       "      <td>None</td>\n",
       "      <td>114799</td>\n",
       "      <td>10962</td>\n",
       "      <td>68175</td>\n",
       "      <td>29085</td>\n",
       "      <td>...</td>\n",
       "      <td>0.397482</td>\n",
       "      <td>0.602518</td>\n",
       "      <td>0.413144</td>\n",
       "      <td>0.586856</td>\n",
       "      <td>11|3.17%|39.75%|60.25%|41.31%|58.69%</td>\n",
       "      <td>0.008807</td>\n",
       "      <td>0.016254</td>\n",
       "      <td>0.044173</td>\n",
       "      <td>11|3.17%</td>\n",
       "      <td>POLYGON ((415767.872 3868693.954, 415814.060 3...</td>\n",
       "    </tr>\n",
       "    <tr>\n",
       "      <th>3</th>\n",
       "      <td>4</td>\n",
       "      <td>148.798386</td>\n",
       "      <td>12</td>\n",
       "      <td>1.0</td>\n",
       "      <td>None</td>\n",
       "      <td>None</td>\n",
       "      <td>116372</td>\n",
       "      <td>11610</td>\n",
       "      <td>72615</td>\n",
       "      <td>23341</td>\n",
       "      <td>...</td>\n",
       "      <td>0.402806</td>\n",
       "      <td>0.597194</td>\n",
       "      <td>0.409886</td>\n",
       "      <td>0.590114</td>\n",
       "      <td>12|4.59%|40.28%|59.72%|40.99%|59.01%</td>\n",
       "      <td>0.000077</td>\n",
       "      <td>0.003343</td>\n",
       "      <td>0.006393</td>\n",
       "      <td>12|4.59%</td>\n",
       "      <td>POLYGON ((390263.924 3867943.555, 390444.255 3...</td>\n",
       "    </tr>\n",
       "    <tr>\n",
       "      <th>4</th>\n",
       "      <td>5</td>\n",
       "      <td>592.801880</td>\n",
       "      <td>13</td>\n",
       "      <td>1.0</td>\n",
       "      <td>None</td>\n",
       "      <td>None</td>\n",
       "      <td>113911</td>\n",
       "      <td>6225</td>\n",
       "      <td>81672</td>\n",
       "      <td>20052</td>\n",
       "      <td>...</td>\n",
       "      <td>0.343869</td>\n",
       "      <td>0.656131</td>\n",
       "      <td>0.350526</td>\n",
       "      <td>0.649474</td>\n",
       "      <td>13|2.37%|34.39%|65.61%|35.05%|64.95%</td>\n",
       "      <td>0.009288</td>\n",
       "      <td>0.018269</td>\n",
       "      <td>0.026565</td>\n",
       "      <td>13|2.37%</td>\n",
       "      <td>POLYGON ((422438.667 3877016.075, 422438.477 3...</td>\n",
       "    </tr>\n",
       "  </tbody>\n",
       "</table>\n",
       "<p>5 rows × 46 columns</p>\n",
       "</div>"
      ],
      "text/plain": [
       "   ID        AREA DISTRICT  MEMBERS LOCKED  NAME  POPULATION  HISPANIC_O  \\\n",
       "0   1  718.418213        1      1.0   None  None      110467        5876   \n",
       "1   2  707.279419       10      1.0   None  None      113230        7121   \n",
       "2   3  179.357925       11      1.0   None  None      114799       10962   \n",
       "3   4  148.798386       12      1.0   None  None      116372       11610   \n",
       "4   5  592.801880       13      1.0   None  None      113911        6225   \n",
       "\n",
       "   NH_WHT  NH_DOJ_BLK  ...  F_G20P_DV  F_G20P_RV  F_G20S_DV  F_G20S_RV  \\\n",
       "0   88773        9028  ...   0.298565   0.701435   0.300292   0.699708   \n",
       "1   76903       24077  ...   0.328773   0.671227   0.334614   0.665386   \n",
       "2   68175       29085  ...   0.397482   0.602518   0.413144   0.586856   \n",
       "3   72615       23341  ...   0.402806   0.597194   0.409886   0.590114   \n",
       "4   81672       20052  ...   0.343869   0.656131   0.350526   0.649474   \n",
       "\n",
       "                             MULTIPLE_F  F_INGRP_CO  F_INGRP_IN  F_PEOPLE_I  \\\n",
       "0  1|-0.72%|29.86%|70.14%|30.03%|69.97%    0.001258    0.005404    0.074873   \n",
       "1  10|1.76%|32.88%|67.12%|33.46%|66.54%    0.004875    0.015738    0.031255   \n",
       "2  11|3.17%|39.75%|60.25%|41.31%|58.69%    0.008807    0.016254    0.044173   \n",
       "3  12|4.59%|40.28%|59.72%|40.99%|59.01%    0.000077    0.003343    0.006393   \n",
       "4  13|2.37%|34.39%|65.61%|35.05%|64.95%    0.009288    0.018269    0.026565   \n",
       "\n",
       "   DISTRICT_L                                           geometry  \n",
       "0    1|-0.72%  POLYGON ((326958.022 3880919.624, 326953.914 3...  \n",
       "1    10|1.76%  POLYGON ((456453.361 3770744.460, 456460.192 3...  \n",
       "2    11|3.17%  POLYGON ((415767.872 3868693.954, 415814.060 3...  \n",
       "3    12|4.59%  POLYGON ((390263.924 3867943.555, 390444.255 3...  \n",
       "4    13|2.37%  POLYGON ((422438.667 3877016.075, 422438.477 3...  \n",
       "\n",
       "[5 rows x 46 columns]"
      ]
     },
     "execution_count": 50,
     "metadata": {},
     "output_type": "execute_result"
    }
   ],
   "source": [
    "send.head()"
   ]
  },
  {
   "cell_type": "code",
   "execution_count": 51,
   "metadata": {},
   "outputs": [
    {
     "name": "stderr",
     "output_type": "stream",
     "text": [
      "100%|██████████████████████████████████████████| 46/46 [00:00<00:00, 138.12it/s]\n",
      "100%|██████████████████████████████████████████| 46/46 [00:00<00:00, 456.54it/s]\n",
      "100%|███████████████████████████████████████████| 46/46 [00:01<00:00, 29.22it/s]\n"
     ]
    }
   ],
   "source": [
    "election_df = add_district(send, \"SEND\", election_df, \"DISTRICT\")"
   ]
  },
  {
   "cell_type": "code",
   "execution_count": 52,
   "metadata": {},
   "outputs": [
    {
     "data": {
      "text/html": [
       "<div>\n",
       "<style scoped>\n",
       "    .dataframe tbody tr th:only-of-type {\n",
       "        vertical-align: middle;\n",
       "    }\n",
       "\n",
       "    .dataframe tbody tr th {\n",
       "        vertical-align: top;\n",
       "    }\n",
       "\n",
       "    .dataframe thead th {\n",
       "        text-align: right;\n",
       "    }\n",
       "</style>\n",
       "<table border=\"1\" class=\"dataframe\">\n",
       "  <thead>\n",
       "    <tr style=\"text-align: right;\">\n",
       "      <th></th>\n",
       "      <th>Name</th>\n",
       "      <th>descriptio</th>\n",
       "      <th>timestamp</th>\n",
       "      <th>begin</th>\n",
       "      <th>end</th>\n",
       "      <th>altitudeMo</th>\n",
       "      <th>tessellate</th>\n",
       "      <th>extrude</th>\n",
       "      <th>visibility</th>\n",
       "      <th>drawOrder</th>\n",
       "      <th>icon</th>\n",
       "      <th>ID</th>\n",
       "      <th>geometry</th>\n",
       "    </tr>\n",
       "  </thead>\n",
       "  <tbody>\n",
       "    <tr>\n",
       "      <th>0</th>\n",
       "      <td>1</td>\n",
       "      <td>None</td>\n",
       "      <td>None</td>\n",
       "      <td>None</td>\n",
       "      <td>None</td>\n",
       "      <td>None</td>\n",
       "      <td>-1</td>\n",
       "      <td>0</td>\n",
       "      <td>-1</td>\n",
       "      <td>None</td>\n",
       "      <td>None</td>\n",
       "      <td>1</td>\n",
       "      <td>POLYGON Z ((326905.722 3880904.197 0.000, 3269...</td>\n",
       "    </tr>\n",
       "    <tr>\n",
       "      <th>1</th>\n",
       "      <td>2</td>\n",
       "      <td>None</td>\n",
       "      <td>None</td>\n",
       "      <td>None</td>\n",
       "      <td>None</td>\n",
       "      <td>None</td>\n",
       "      <td>-1</td>\n",
       "      <td>0</td>\n",
       "      <td>-1</td>\n",
       "      <td>None</td>\n",
       "      <td>None</td>\n",
       "      <td>2</td>\n",
       "      <td>POLYGON Z ((329971.411 3831326.821 0.000, 3298...</td>\n",
       "    </tr>\n",
       "    <tr>\n",
       "      <th>2</th>\n",
       "      <td>3</td>\n",
       "      <td>None</td>\n",
       "      <td>None</td>\n",
       "      <td>None</td>\n",
       "      <td>None</td>\n",
       "      <td>None</td>\n",
       "      <td>-1</td>\n",
       "      <td>0</td>\n",
       "      <td>-1</td>\n",
       "      <td>None</td>\n",
       "      <td>None</td>\n",
       "      <td>3</td>\n",
       "      <td>POLYGON Z ((331622.972 3836350.773 0.000, 3316...</td>\n",
       "    </tr>\n",
       "    <tr>\n",
       "      <th>3</th>\n",
       "      <td>4</td>\n",
       "      <td>None</td>\n",
       "      <td>None</td>\n",
       "      <td>None</td>\n",
       "      <td>None</td>\n",
       "      <td>None</td>\n",
       "      <td>-1</td>\n",
       "      <td>0</td>\n",
       "      <td>-1</td>\n",
       "      <td>None</td>\n",
       "      <td>None</td>\n",
       "      <td>4</td>\n",
       "      <td>POLYGON Z ((332640.127 3868917.755 0.000, 3326...</td>\n",
       "    </tr>\n",
       "    <tr>\n",
       "      <th>4</th>\n",
       "      <td>5</td>\n",
       "      <td>None</td>\n",
       "      <td>None</td>\n",
       "      <td>None</td>\n",
       "      <td>None</td>\n",
       "      <td>None</td>\n",
       "      <td>-1</td>\n",
       "      <td>0</td>\n",
       "      <td>-1</td>\n",
       "      <td>None</td>\n",
       "      <td>None</td>\n",
       "      <td>5</td>\n",
       "      <td>POLYGON Z ((346754.257 3844179.421 0.000, 3465...</td>\n",
       "    </tr>\n",
       "  </tbody>\n",
       "</table>\n",
       "</div>"
      ],
      "text/plain": [
       "  Name descriptio timestamp begin   end altitudeMo  tessellate  extrude  \\\n",
       "0    1       None      None  None  None       None          -1        0   \n",
       "1    2       None      None  None  None       None          -1        0   \n",
       "2    3       None      None  None  None       None          -1        0   \n",
       "3    4       None      None  None  None       None          -1        0   \n",
       "4    5       None      None  None  None       None          -1        0   \n",
       "\n",
       "   visibility drawOrder  icon ID  \\\n",
       "0          -1      None  None  1   \n",
       "1          -1      None  None  2   \n",
       "2          -1      None  None  3   \n",
       "3          -1      None  None  4   \n",
       "4          -1      None  None  5   \n",
       "\n",
       "                                            geometry  \n",
       "0  POLYGON Z ((326905.722 3880904.197 0.000, 3269...  \n",
       "1  POLYGON Z ((329971.411 3831326.821 0.000, 3298...  \n",
       "2  POLYGON Z ((331622.972 3836350.773 0.000, 3316...  \n",
       "3  POLYGON Z ((332640.127 3868917.755 0.000, 3326...  \n",
       "4  POLYGON Z ((346754.257 3844179.421 0.000, 3465...  "
      ]
     },
     "execution_count": 52,
     "metadata": {},
     "output_type": "execute_result"
    }
   ],
   "source": [
    "hdist.head()"
   ]
  },
  {
   "cell_type": "code",
   "execution_count": 53,
   "metadata": {},
   "outputs": [
    {
     "name": "stderr",
     "output_type": "stream",
     "text": [
      "100%|████████████████████████████████████████| 124/124 [00:00<00:00, 240.42it/s]\n",
      "100%|███████████████████████████████████████| 124/124 [00:00<00:00, 1050.43it/s]\n",
      "100%|█████████████████████████████████████████| 124/124 [00:01<00:00, 67.53it/s]\n"
     ]
    }
   ],
   "source": [
    "election_df = add_district(hdist, \"HDIST\", election_df, \"Name\")"
   ]
  },
  {
   "cell_type": "code",
   "execution_count": 54,
   "metadata": {},
   "outputs": [
    {
     "data": {
      "text/plain": [
       "Index(['2MOREVAP', 'AGR18O', 'AGR18R', 'AMINVAP', 'ASIANVAP', 'ATG18D',\n",
       "       'ATG18O', 'ATG18R', 'BVAP', 'CODE_NAME', 'COM18O', 'COM18R', 'COUNTY',\n",
       "       'GOV18D', 'GOV18O', 'GOV18R', 'HISP', 'HVAP', 'H_2MORE', 'H_AMIN',\n",
       "       'H_ASIAN', 'H_BLACK', 'H_NHPI', 'H_OTHER', 'H_WHITE', 'NHPIVAP',\n",
       "       'NH_2MORE', 'NH_AMIN', 'NH_ASIAN', 'NH_BLACK', 'NH_NHPI', 'NH_OTHER',\n",
       "       'NH_WHITE', 'OTHERVAP', 'PCODE', 'PRE16D', 'PRE16O', 'PRE16R', 'PRE20D',\n",
       "       'PRE20O', 'PRE20R', 'SOS18D', 'SOS18O', 'SOS18R', 'SPI18O', 'SPI18R',\n",
       "       'TOTPOP', 'TRE18D', 'TRE18O', 'TRE18R', 'USS16D', 'USS16O', 'USS16R',\n",
       "       'USS20D', 'USS20O', 'USS20R', 'VAP', 'WVAP', 'geometry', 'CD', 'SEND',\n",
       "       'HDIST'],\n",
       "      dtype='object')"
      ]
     },
     "execution_count": 54,
     "metadata": {},
     "output_type": "execute_result"
    }
   ],
   "source": [
    "election_df.columns"
   ]
  },
  {
   "cell_type": "markdown",
   "metadata": {},
   "source": [
    "### Put the base precinct year after the precinct information column"
   ]
  },
  {
   "cell_type": "code",
   "execution_count": 56,
   "metadata": {},
   "outputs": [],
   "source": [
    "base_columns = {}\n",
    "if 'COUNTYFP' + year not in election_df.columns:\n",
    "    base_columns = {\n",
    "        'COUNTY':'COUNTY'+year,\n",
    "        'PCODE':'PCODE'+year,\n",
    "        'CODE_NAME':'CODE_NAME'+year}\n",
    "election_df.rename(columns=base_columns, inplace = True)"
   ]
  },
  {
   "cell_type": "code",
   "execution_count": 57,
   "metadata": {},
   "outputs": [
    {
     "data": {
      "text/plain": [
       "Index(['2MOREVAP', 'AGR18O', 'AGR18R', 'AMINVAP', 'ASIANVAP', 'ATG18D',\n",
       "       'ATG18O', 'ATG18R', 'BVAP', 'CODE_NAME20', 'COM18O', 'COM18R',\n",
       "       'COUNTY20', 'GOV18D', 'GOV18O', 'GOV18R', 'HISP', 'HVAP', 'H_2MORE',\n",
       "       'H_AMIN', 'H_ASIAN', 'H_BLACK', 'H_NHPI', 'H_OTHER', 'H_WHITE',\n",
       "       'NHPIVAP', 'NH_2MORE', 'NH_AMIN', 'NH_ASIAN', 'NH_BLACK', 'NH_NHPI',\n",
       "       'NH_OTHER', 'NH_WHITE', 'OTHERVAP', 'PCODE20', 'PRE16D', 'PRE16O',\n",
       "       'PRE16R', 'PRE20D', 'PRE20O', 'PRE20R', 'SOS18D', 'SOS18O', 'SOS18R',\n",
       "       'SPI18O', 'SPI18R', 'TOTPOP', 'TRE18D', 'TRE18O', 'TRE18R', 'USS16D',\n",
       "       'USS16O', 'USS16R', 'USS20D', 'USS20O', 'USS20R', 'VAP', 'WVAP',\n",
       "       'geometry', 'CD', 'SEND', 'HDIST'],\n",
       "      dtype='object')"
      ]
     },
     "execution_count": 57,
     "metadata": {},
     "output_type": "execute_result"
    }
   ],
   "source": [
    "election_df.columns"
   ]
  },
  {
   "cell_type": "code",
   "execution_count": 58,
   "metadata": {},
   "outputs": [],
   "source": [
    "# reorder the columns\n",
    "fixed_columns = [\n",
    "    'COUNTY'+year,\n",
    "    'PCODE'+year,\n",
    "    'CODE_NAME'+year,\n",
    "    'CD',\n",
    "    'SEND',\n",
    "    'HDIST',\n",
    "    'TOTPOP',\n",
    "    'NH_2MORE',\n",
    "    'NH_AMIN',\n",
    "    'NH_ASIAN',\n",
    "    'NH_BLACK',\n",
    "    'NH_NHPI',\n",
    "    'NH_OTHER',\n",
    "    'NH_WHITE',\n",
    "    'HISP',\n",
    "    'H_AMIN',\n",
    "    'H_ASIAN',\n",
    "    'H_BLACK',\n",
    "    'H_NHPI',\n",
    "    'H_OTHER',\n",
    "    'H_WHITE',\n",
    "    'H_2MORE',\n",
    "    'VAP',\n",
    "    'HVAP',\n",
    "    'WVAP',\n",
    "    'BVAP',\n",
    "    'AMINVAP',\n",
    "    'ASIANVAP',\n",
    "    'NHPIVAP',\n",
    "    'OTHERVAP',\n",
    "    '2MOREVAP']\n",
    "\n",
    "election_columns = [col for col in election_df.columns if col not in fixed_columns]\n",
    "final_col = fixed_columns + election_columns\n",
    "election_df = election_df[final_col]"
   ]
  },
  {
   "cell_type": "code",
   "execution_count": 59,
   "metadata": {},
   "outputs": [],
   "source": [
    "import os\n",
    "\n",
    "# store the result in directory \"il\"\n",
    "directory = \"./{}\".format(state_ab)\n",
    "if not os.path.exists(directory):\n",
    "    os.makedirs(directory)\n",
    "\n",
    "shapefile_path = \"./{}/{}.shp\".format(state_ab, state_ab)\n",
    "geojson_path = './{}/{}.geojson'.format(state_ab, state_ab)\n",
    "json_path = \"./{}.json\".format(state_ab, state_ab)\n",
    "\n",
    "# Check if the shapefile or geojson file already exists\n",
    "if os.path.exists(shapefile_path):\n",
    "    os.remove(shapefile_path)\n",
    "if os.path.exists(geojson_path):\n",
    "    os.remove(geojson_path)\n",
    "\n",
    "election_df.to_file(shapefile_path)\n",
    "election_df.to_file(geojson_path, driver='GeoJSON')\n",
    "\n",
    "# Only do once to build json and read from file when generating ensembles\n",
    "graph = Graph.from_file(shapefile_path, ignore_errors=True)\n",
    "graph.to_json(json_path)"
   ]
  },
  {
   "cell_type": "code",
   "execution_count": 60,
   "metadata": {},
   "outputs": [
    {
     "data": {
      "text/plain": [
       "<Axes: >"
      ]
     },
     "execution_count": 60,
     "metadata": {},
     "output_type": "execute_result"
    },
    {
     "data": {
      "image/png": "[encoded data removed]",
      "text/plain": [
       "<Figure size 640x480 with 1 Axes>"
      ]
     },
     "metadata": {},
     "output_type": "display_data"
    }
   ],
   "source": [
    "shapefile_path = \"./{}/{}.shp\".format(state_ab, state_ab)\n",
    "shape=gpd.read_file(shapefile_path)\n",
    "shape.plot()"
   ]
  }
 ],
 "metadata": {
  "kernelspec": {
   "display_name": "gerry",
   "language": "python",
   "name": "gerry"
  },
  "language_info": {
   "codemirror_mode": {
    "name": "ipython",
    "version": 3
   },
   "file_extension": ".py",
   "mimetype": "text/x-python",
   "name": "python",
   "nbconvert_exporter": "python",
   "pygments_lexer": "ipython3",
   "version": "3.11.4"
  }
 },
 "nbformat": 4,
 "nbformat_minor": 4
}
