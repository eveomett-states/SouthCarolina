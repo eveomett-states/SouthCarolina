{
 "cells": [
  {
   "cell_type": "markdown",
   "metadata": {},
   "source": [
    "@author: eveomett AI for Redistricting, USF All data retrieved 05/25/24:\n",
    "https://redistrictingdatahub.org/dataset/south-carolina-block-pl-94171-2020-by-table/\n",
    "\n",
    "https://redistrictingdatahub.org/dataset/2022-south-carolina-congressional-districts-approved-plan/\n",
    "\n",
    "https://redistrictingdatahub.org/dataset/vest-2020-south-carolina-precinct-and-election-results/\n",
    "https://redistrictingdatahub.org/dataset/vest-2018-south-carolina-precinct-and-election-results/\n",
    "https://redistrictingdatahub.org/dataset/vest-2016-south-carolina-precinct-and-election-results/    \n",
    "\n",
    "https://redistrictingdatahub.org/dataset/2021-south-carolina-state-senate-approved-plan/\n",
    "https://redistrictingdatahub.org/dataset/2024-south-carolina-house-of-representatives-districts-approved-plan/"
   ]
  },
  {
   "cell_type": "code",
   "execution_count": 1,
   "metadata": {},
   "outputs": [],
   "source": [
    "import pandas as pd\n",
    "import geopandas as gpd\n",
    "import maup\n",
    "import time\n",
    "from maup import smart_repair\n",
    "from gerrychain import Graph\n",
    "\n",
    "maup.progress.enabled = True"
   ]
  },
  {
   "cell_type": "code",
   "execution_count": 2,
   "metadata": {},
   "outputs": [],
   "source": [
    "import warnings\n",
    "warnings.filterwarnings(\"ignore\")"
   ]
  },
  {
   "cell_type": "code",
   "execution_count": 3,
   "metadata": {},
   "outputs": [],
   "source": [
    "# state = Tennessee\n",
    "state_ab = \"sc\""
   ]
  },
  {
   "cell_type": "markdown",
   "metadata": {},
   "source": [
    "## Data\n",
    "1. Download all the data in directory \"tn_data\"\n",
    "2. Extract them all"
   ]
  },
  {
   "cell_type": "code",
   "execution_count": 4,
   "metadata": {},
   "outputs": [],
   "source": [
    "data_folder = state_ab + \"_data/\"\n",
    "population1_data = \"./{}{}_pl2020_b/{}_pl2020_p1_b.shp\".format(data_folder, state_ab, state_ab)\n",
    "population2_data = \"./{}{}_pl2020_b/{}_pl2020_p2_b.shp\".format(data_folder, state_ab, state_ab)\n",
    "vap_data =  \"./{}{}_pl2020_b/{}_pl2020_p4_b.shp\".format(data_folder, state_ab, state_ab)\n",
    "vest20_data = \"./{}{}_vest_20/{}_vest_20.shp\".format(data_folder, state_ab, state_ab)\n",
    "vest18_data = \"./{}{}_vest_18/{}_vest_18.shp\".format(data_folder, state_ab, state_ab)\n",
    "vest16_data = \"./{}{}_vest_16/{}_vest_16.shp\".format(data_folder, state_ab, state_ab)\n",
    "cd_data = \"./{}{}_cong_adopted_2022/S865_Congress.shp\".format(data_folder, state_ab)\n",
    "send_data = \"./{}{}_sldu_2021/sc_sldu_2021.shp\".format(data_folder, state_ab)\n",
    "hdist_data = \"./{}{}_sldl_adopted_2024_shp/S1024.shp\".format(data_folder, state_ab)"
   ]
  },
  {
   "cell_type": "code",
   "execution_count": 5,
   "metadata": {},
   "outputs": [],
   "source": [
    "def do_smart_repair(df):\n",
    "    # change it to the UTM it needs for smart_repair\n",
    "    df = df.to_crs(df.estimate_utm_crs())\n",
    "    df = smart_repair(df)\n",
    "    if maup.doctor(df):\n",
    "        print('smart_repair successful')\n",
    "            \n",
    "        # change it back to this UTM for this data\n",
    "        df = df.to_crs('EPSG:4269')\n",
    "    else:\n",
    "        raise Exception('smart_repair failed')\n",
    "    return df"
   ]
  },
  {
   "cell_type": "code",
   "execution_count": 6,
   "metadata": {},
   "outputs": [],
   "source": [
    "def add_district(dist_df, dist_name, election_df, col_name):\n",
    "    # check if it needs to be smart_repair\n",
    "    if maup.doctor(dist_df) != True:\n",
    "        dist_df = do_smart_repair(dist_df)\n",
    "    \n",
    "    election_df = gpd.GeoDataFrame(election_df, crs=\"EPSG:4269\")\n",
    "    \n",
    "    # assign the pricincts\n",
    "    precincts_to_district_assignment = maup.assign(election_df.geometry, dist_df.geometry)\n",
    "    election_df[dist_name] = precincts_to_district_assignment\n",
    "    for precinct_index in range(len(election_df)):\n",
    "        election_df.at[precinct_index, dist_name] = dist_df.at[election_df.at[precinct_index, dist_name], col_name]\n",
    "    \n",
    "    return election_df"
   ]
  },
  {
   "cell_type": "code",
   "execution_count": 7,
   "metadata": {},
   "outputs": [],
   "source": [
    "def rename(original, year):\n",
    "    party = original[6]\n",
    "    if party == 'R' or party == 'D':\n",
    "        return original[3:6] + year + original[6]\n",
    "    else:\n",
    "        return original[3:6] + year + 'O'"
   ]
  },
  {
   "cell_type": "code",
   "execution_count": 8,
   "metadata": {},
   "outputs": [],
   "source": [
    "pop_col = ['TOTPOP', 'HISP', 'NH_WHITE', 'NH_BLACK', 'NH_AMIN', 'NH_ASIAN', 'NH_NHPI', 'NH_OTHER', 'NH_2MORE', 'H_WHITE', 'H_BLACK', 'H_AMIN', 'H_ASIAN', 'H_NHPI', 'H_OTHER', 'H_2MORE', 'VAP', 'HVAP', 'WVAP', 'BVAP', 'AMINVAP', 'ASIANVAP', 'NHPIVAP', 'OTHERVAP', '2MOREVAP']"
   ]
  },
  {
   "cell_type": "code",
   "execution_count": 9,
   "metadata": {},
   "outputs": [],
   "source": [
    "def check_population(population, df):\n",
    "    pop_check = pd.DataFrame({\n",
    "        'pop_col': pop_col,\n",
    "        'population_df': population[pop_col].sum(), \n",
    "        'vest_base': df[pop_col].sum(),\n",
    "        'equal': [x == y for x, y in zip(population[pop_col].sum(), df[pop_col].sum())]\n",
    "    })\n",
    "    if pop_check['equal'].mean() < 1:\n",
    "        print(pop_check)\n",
    "        raise Exception(\"population doesn't agree\")\n",
    "\n",
    "    else:\n",
    "        print(\"population agrees\")"
   ]
  },
  {
   "cell_type": "code",
   "execution_count": 10,
   "metadata": {},
   "outputs": [],
   "source": [
    "def add_vest(vest, df, year, population, start_col):    \n",
    "     # check if it needs to be smart_repair\n",
    "    if maup.doctor(vest) != True:\n",
    "        vest = do_smart_repair(vest)\n",
    "    \n",
    "    # rename the columns\n",
    "    original_col = vest.columns[start_col:-1]\n",
    "    new_col = [rename(i, year) for i in original_col]\n",
    "    rename_dict = dict(zip(original_col, new_col))\n",
    "    vest = vest.rename(columns=rename_dict)\n",
    "    vest = vest.groupby(level=0, axis=1).sum() # combine all the other party's vote into columns with sufix \"O\"\n",
    "    col_name = list(set(new_col))\n",
    "    col_name.sort()\n",
    "    \n",
    "    # make the blocks from precincts by weight\n",
    "    vest = gpd.GeoDataFrame(vest, crs=\"EPSG:4269\")\n",
    "    election_in_block = population[[\"VAP\", 'geometry']] # population_df is in block scale\n",
    "    blocks_to_precincts_assignment = maup.assign(election_in_block.geometry, vest.geometry)\n",
    "\n",
    "    weights = election_in_block[\"VAP\"] / blocks_to_precincts_assignment.map(election_in_block[\"VAP\"].groupby(blocks_to_precincts_assignment).sum())\n",
    "    weights = weights.fillna(0)\n",
    "    prorated = maup.prorate(blocks_to_precincts_assignment, vest[col_name], weights)\n",
    "    election_in_block[col_name] = prorated\n",
    "\n",
    "    # assign blocks to precincts\n",
    "    election_in_block = gpd.GeoDataFrame(election_in_block, crs=\"EPSG:4269\")\n",
    "    df = gpd.GeoDataFrame(df, crs=\"EPSG:4269\")\n",
    "    block_to_pricinct_assginment = maup.assign(election_in_block.geometry, df.geometry)\n",
    "    df[col_name] = election_in_block[col_name].groupby(block_to_pricinct_assginment).sum()\n",
    "    df = df.groupby(level=0, axis=1).sum()\n",
    "    \n",
    "    # check if population agrees\n",
    "    check_population(population, df)\n",
    "        \n",
    "    return df"
   ]
  },
  {
   "cell_type": "markdown",
   "metadata": {},
   "source": [
    "### Read the census data"
   ]
  },
  {
   "cell_type": "code",
   "execution_count": 11,
   "metadata": {},
   "outputs": [],
   "source": [
    "population1_df = gpd.read_file(population1_data)\n",
    "population2_df = gpd.read_file(population2_data)\n",
    "vap_df = gpd.read_file(vap_data)"
   ]
  },
  {
   "cell_type": "code",
   "execution_count": 12,
   "metadata": {},
   "outputs": [],
   "source": [
    "population2_df = population2_df.drop(columns=['SUMLEV', 'LOGRECNO', 'GEOID', 'COUNTY', 'geometry'])\n",
    "vap_df = vap_df.drop(columns=['SUMLEV', 'LOGRECNO', 'GEOID', 'COUNTY', 'geometry'])"
   ]
  },
  {
   "cell_type": "code",
   "execution_count": 13,
   "metadata": {},
   "outputs": [],
   "source": [
    "population_df = pd.merge(population1_df, population2_df, on='GEOID20')\n",
    "population_df = pd.merge(population_df, vap_df, on='GEOID20')"
   ]
  },
  {
   "cell_type": "code",
   "execution_count": 14,
   "metadata": {},
   "outputs": [
    {
     "name": "stderr",
     "output_type": "stream",
     "text": [
      "100%|██████████| 146844/146844 [02:32<00:00, 961.62it/s] \n"
     ]
    },
    {
     "data": {
      "text/plain": [
       "True"
      ]
     },
     "execution_count": 14,
     "metadata": {},
     "output_type": "execute_result"
    }
   ],
   "source": [
    "maup.doctor(population_df)"
   ]
  },
  {
   "cell_type": "code",
   "execution_count": 15,
   "metadata": {},
   "outputs": [],
   "source": [
    "population_df['H_WHITE'] = population_df.apply(lambda t: t['P0010003'] - t['P0020005'], 1)\n",
    "population_df['H_BLACK'] = population_df.apply(lambda t: t['P0010004'] - t['P0020006'], 1)\n",
    "population_df['H_AMIN'] = population_df.apply(lambda t: t['P0010005'] - t['P0020007'], 1)\n",
    "population_df['H_ASIAN'] = population_df.apply(lambda t: t['P0010006'] - t['P0020008'], 1)\n",
    "population_df['H_NHPI'] = population_df.apply(lambda t: t['P0010007'] - t['P0020009'], 1)\n",
    "population_df['H_OTHER'] = population_df.apply(lambda t: t['P0010008'] - t['P0020010'], 1)\n",
    "population_df['H_2MORE'] = population_df.apply(lambda t: t['P0010009'] - t['P0020011'], 1)"
   ]
  },
  {
   "cell_type": "code",
   "execution_count": 16,
   "metadata": {},
   "outputs": [],
   "source": [
    "rename_dict = {'P0020001': 'TOTPOP', 'P0020002': 'HISP', 'P0020005': 'NH_WHITE', 'P0020006': 'NH_BLACK', 'P0020007': 'NH_AMIN',\n",
    "                    'P0020008': 'NH_ASIAN', 'P0020009': 'NH_NHPI', 'P0020010': 'NH_OTHER', 'P0020011': 'NH_2MORE',\n",
    "                    'P0040001': 'VAP', 'P0040002': 'HVAP', 'P0040005': 'WVAP', 'P0040006': 'BVAP', 'P0040007': 'AMINVAP',\n",
    "                                        'P0040008': 'ASIANVAP', 'P0040009': 'NHPIVAP', 'P0040010': 'OTHERVAP', 'P0040011': '2MOREVAP'}"
   ]
  },
  {
   "cell_type": "code",
   "execution_count": 17,
   "metadata": {},
   "outputs": [],
   "source": [
    "population_df.rename(columns=rename_dict, inplace = True)"
   ]
  },
  {
   "cell_type": "code",
   "execution_count": 18,
   "metadata": {},
   "outputs": [
    {
     "name": "stderr",
     "output_type": "stream",
     "text": [
      "100%|██████████| 7/7 [00:00<00:00, 20.84it/s]\n"
     ]
    }
   ],
   "source": [
    "cong_df = gpd.read_file(cd_data)\n",
    "if maup.doctor(cong_df) != True:\n",
    "    cong_df = do_smart_repair(cong_df)"
   ]
  },
  {
   "cell_type": "markdown",
   "metadata": {},
   "source": [
    "## Read the vest 20 data\n",
    "\n",
    "Now using it as a \"base pricinct\""
   ]
  },
  {
   "cell_type": "code",
   "execution_count": 19,
   "metadata": {},
   "outputs": [],
   "source": [
    "def add_vest_base(vest, start_col, year):\n",
    "    original_col = vest.columns[start_col:-1]\n",
    "    new_col = [rename(i, year) for i in original_col]\n",
    "    rename_dict = dict(zip(original_col, new_col))\n",
    "    vest = vest.rename(columns=rename_dict)\n",
    "    vest = vest.groupby(level=0, axis=1).sum()\n",
    "    vest = gpd.GeoDataFrame(vest, crs=\"EPSG:4269\")\n",
    "    \n",
    "    return vest"
   ]
  },
  {
   "cell_type": "markdown",
   "metadata": {},
   "source": [
    "## Check if vest20 can be used as base"
   ]
  },
  {
   "cell_type": "code",
   "execution_count": 20,
   "metadata": {},
   "outputs": [
    {
     "name": "stderr",
     "output_type": "stream",
     "text": [
      "100%|██████████| 2263/2263 [00:05<00:00, 422.29it/s]\n"
     ]
    },
    {
     "name": "stdout",
     "output_type": "stream",
     "text": [
      "There are 806 overlaps.\n",
      "There are 2872 holes.\n",
      "There are some invalid geometries.\n",
      "Snapping all geometries to a grid with precision 10^( -5 ) to avoid GEOS errors.\n",
      "Identifying overlaps...\n"
     ]
    },
    {
     "name": "stderr",
     "output_type": "stream",
     "text": [
      "100%|██████████| 11494/11494 [00:06<00:00, 1644.06it/s]\n"
     ]
    },
    {
     "name": "stdout",
     "output_type": "stream",
     "text": [
      "Resolving overlaps...\n",
      "Assigning order 2 pieces...\n",
      "Assigning order 3 pieces...\n",
      "Filling gaps...\n"
     ]
    },
    {
     "name": "stderr",
     "output_type": "stream",
     "text": [
      "Gaps to simplify: 100%|██████████| 4531/4531 [19:49<00:00,  3.81it/s]  \n",
      "Gaps to fill: 100%|██████████| 247/247 [01:23<00:00,  2.95it/s]\n",
      "100%|██████████| 2263/2263 [00:04<00:00, 452.92it/s]\n"
     ]
    },
    {
     "name": "stdout",
     "output_type": "stream",
     "text": [
      "smart_repair successful\n"
     ]
    }
   ],
   "source": [
    "vest20 = gpd.read_file(vest20_data)\n",
    "if maup.doctor(vest20) != True:\n",
    "    vest20 = do_smart_repair(vest20)"
   ]
  },
  {
   "cell_type": "code",
   "execution_count": 21,
   "metadata": {},
   "outputs": [
    {
     "data": {
      "text/plain": [
       "Index(['COUNTY', 'PCODE', 'CODE_NAME', 'G20PRERTRU', 'G20PREDBID',\n",
       "       'G20PRELJOR', 'G20PREGHAW', 'G20PREAFUE', 'G20USSRGRA', 'G20USSDHAR',\n",
       "       'G20USSCBLE', 'G20USSOWRI', 'geometry'],\n",
       "      dtype='object')"
      ]
     },
     "execution_count": 21,
     "metadata": {},
     "output_type": "execute_result"
    }
   ],
   "source": [
    "vest20.columns"
   ]
  },
  {
   "cell_type": "code",
   "execution_count": 22,
   "metadata": {},
   "outputs": [],
   "source": [
    "start_col = 3\n",
    "vest_base_data = vest20\n",
    "year = '20'"
   ]
  },
  {
   "cell_type": "code",
   "execution_count": 23,
   "metadata": {},
   "outputs": [],
   "source": [
    "vest_base = add_vest_base(vest_base_data, start_col, year)"
   ]
  },
  {
   "cell_type": "code",
   "execution_count": 24,
   "metadata": {},
   "outputs": [
    {
     "name": "stderr",
     "output_type": "stream",
     "text": [
      "100%|██████████| 2263/2263 [00:05<00:00, 388.95it/s]\n",
      "100%|██████████| 2263/2263 [00:22<00:00, 100.23it/s]\n"
     ]
    }
   ],
   "source": [
    "# vap and population have the same GEOID20\n",
    "blocks_to_precincts_assignment = maup.assign(population_df.geometry, vest_base.geometry)"
   ]
  },
  {
   "cell_type": "code",
   "execution_count": 25,
   "metadata": {},
   "outputs": [],
   "source": [
    "vest_base[pop_col] = population_df[pop_col].groupby(blocks_to_precincts_assignment).sum()"
   ]
  },
  {
   "cell_type": "code",
   "execution_count": 26,
   "metadata": {},
   "outputs": [],
   "source": [
    "election_df = gpd.GeoDataFrame(vest_base, crs=\"EPSG:4269\")"
   ]
  },
  {
   "cell_type": "code",
   "execution_count": 27,
   "metadata": {},
   "outputs": [
    {
     "data": {
      "text/plain": [
       "Index(['CODE_NAME', 'COUNTY', 'PCODE', 'PRE20D', 'PRE20O', 'PRE20R', 'USS20D',\n",
       "       'USS20O', 'USS20R', 'geometry', 'TOTPOP', 'HISP', 'NH_WHITE',\n",
       "       'NH_BLACK', 'NH_AMIN', 'NH_ASIAN', 'NH_NHPI', 'NH_OTHER', 'NH_2MORE',\n",
       "       'H_WHITE', 'H_BLACK', 'H_AMIN', 'H_ASIAN', 'H_NHPI', 'H_OTHER',\n",
       "       'H_2MORE', 'VAP', 'HVAP', 'WVAP', 'BVAP', 'AMINVAP', 'ASIANVAP',\n",
       "       'NHPIVAP', 'OTHERVAP', '2MOREVAP'],\n",
       "      dtype='object')"
      ]
     },
     "execution_count": 27,
     "metadata": {},
     "output_type": "execute_result"
    }
   ],
   "source": [
    "election_df.columns"
   ]
  },
  {
   "cell_type": "markdown",
   "metadata": {},
   "source": [
    "## Check if population agrees"
   ]
  },
  {
   "cell_type": "code",
   "execution_count": 28,
   "metadata": {},
   "outputs": [
    {
     "data": {
      "text/html": [
       "<div>\n",
       "<style scoped>\n",
       "    .dataframe tbody tr th:only-of-type {\n",
       "        vertical-align: middle;\n",
       "    }\n",
       "\n",
       "    .dataframe tbody tr th {\n",
       "        vertical-align: top;\n",
       "    }\n",
       "\n",
       "    .dataframe thead th {\n",
       "        text-align: right;\n",
       "    }\n",
       "</style>\n",
       "<table border=\"1\" class=\"dataframe\">\n",
       "  <thead>\n",
       "    <tr style=\"text-align: right;\">\n",
       "      <th></th>\n",
       "      <th>pop_col</th>\n",
       "      <th>population_df</th>\n",
       "      <th>vest_base</th>\n",
       "      <th>equal</th>\n",
       "    </tr>\n",
       "  </thead>\n",
       "  <tbody>\n",
       "    <tr>\n",
       "      <th>TOTPOP</th>\n",
       "      <td>TOTPOP</td>\n",
       "      <td>5118425</td>\n",
       "      <td>5118425</td>\n",
       "      <td>True</td>\n",
       "    </tr>\n",
       "    <tr>\n",
       "      <th>HISP</th>\n",
       "      <td>HISP</td>\n",
       "      <td>352838</td>\n",
       "      <td>352838</td>\n",
       "      <td>True</td>\n",
       "    </tr>\n",
       "    <tr>\n",
       "      <th>NH_WHITE</th>\n",
       "      <td>NH_WHITE</td>\n",
       "      <td>3178552</td>\n",
       "      <td>3178552</td>\n",
       "      <td>True</td>\n",
       "    </tr>\n",
       "    <tr>\n",
       "      <th>NH_BLACK</th>\n",
       "      <td>NH_BLACK</td>\n",
       "      <td>1269031</td>\n",
       "      <td>1269031</td>\n",
       "      <td>True</td>\n",
       "    </tr>\n",
       "    <tr>\n",
       "      <th>NH_AMIN</th>\n",
       "      <td>NH_AMIN</td>\n",
       "      <td>16591</td>\n",
       "      <td>16591</td>\n",
       "      <td>True</td>\n",
       "    </tr>\n",
       "    <tr>\n",
       "      <th>NH_ASIAN</th>\n",
       "      <td>NH_ASIAN</td>\n",
       "      <td>89394</td>\n",
       "      <td>89394</td>\n",
       "      <td>True</td>\n",
       "    </tr>\n",
       "    <tr>\n",
       "      <th>NH_NHPI</th>\n",
       "      <td>NH_NHPI</td>\n",
       "      <td>3085</td>\n",
       "      <td>3085</td>\n",
       "      <td>True</td>\n",
       "    </tr>\n",
       "    <tr>\n",
       "      <th>NH_OTHER</th>\n",
       "      <td>NH_OTHER</td>\n",
       "      <td>19354</td>\n",
       "      <td>19354</td>\n",
       "      <td>True</td>\n",
       "    </tr>\n",
       "    <tr>\n",
       "      <th>NH_2MORE</th>\n",
       "      <td>NH_2MORE</td>\n",
       "      <td>189580</td>\n",
       "      <td>189580</td>\n",
       "      <td>True</td>\n",
       "    </tr>\n",
       "    <tr>\n",
       "      <th>H_WHITE</th>\n",
       "      <td>H_WHITE</td>\n",
       "      <td>64890</td>\n",
       "      <td>64890</td>\n",
       "      <td>True</td>\n",
       "    </tr>\n",
       "    <tr>\n",
       "      <th>H_BLACK</th>\n",
       "      <td>H_BLACK</td>\n",
       "      <td>11500</td>\n",
       "      <td>11500</td>\n",
       "      <td>True</td>\n",
       "    </tr>\n",
       "    <tr>\n",
       "      <th>H_AMIN</th>\n",
       "      <td>H_AMIN</td>\n",
       "      <td>7712</td>\n",
       "      <td>7712</td>\n",
       "      <td>True</td>\n",
       "    </tr>\n",
       "    <tr>\n",
       "      <th>H_ASIAN</th>\n",
       "      <td>H_ASIAN</td>\n",
       "      <td>1072</td>\n",
       "      <td>1072</td>\n",
       "      <td>True</td>\n",
       "    </tr>\n",
       "    <tr>\n",
       "      <th>H_NHPI</th>\n",
       "      <td>H_NHPI</td>\n",
       "      <td>346</td>\n",
       "      <td>346</td>\n",
       "      <td>True</td>\n",
       "    </tr>\n",
       "    <tr>\n",
       "      <th>H_OTHER</th>\n",
       "      <td>H_OTHER</td>\n",
       "      <td>158522</td>\n",
       "      <td>158522</td>\n",
       "      <td>True</td>\n",
       "    </tr>\n",
       "    <tr>\n",
       "      <th>H_2MORE</th>\n",
       "      <td>H_2MORE</td>\n",
       "      <td>108796</td>\n",
       "      <td>108796</td>\n",
       "      <td>True</td>\n",
       "    </tr>\n",
       "    <tr>\n",
       "      <th>VAP</th>\n",
       "      <td>VAP</td>\n",
       "      <td>4014460</td>\n",
       "      <td>4014460</td>\n",
       "      <td>True</td>\n",
       "    </tr>\n",
       "    <tr>\n",
       "      <th>HVAP</th>\n",
       "      <td>HVAP</td>\n",
       "      <td>231124</td>\n",
       "      <td>231124</td>\n",
       "      <td>True</td>\n",
       "    </tr>\n",
       "    <tr>\n",
       "      <th>WVAP</th>\n",
       "      <td>WVAP</td>\n",
       "      <td>2603975</td>\n",
       "      <td>2603975</td>\n",
       "      <td>True</td>\n",
       "    </tr>\n",
       "    <tr>\n",
       "      <th>BVAP</th>\n",
       "      <td>BVAP</td>\n",
       "      <td>964667</td>\n",
       "      <td>964667</td>\n",
       "      <td>True</td>\n",
       "    </tr>\n",
       "    <tr>\n",
       "      <th>AMINVAP</th>\n",
       "      <td>AMINVAP</td>\n",
       "      <td>13333</td>\n",
       "      <td>13333</td>\n",
       "      <td>True</td>\n",
       "    </tr>\n",
       "    <tr>\n",
       "      <th>ASIANVAP</th>\n",
       "      <td>ASIANVAP</td>\n",
       "      <td>70272</td>\n",
       "      <td>70272</td>\n",
       "      <td>True</td>\n",
       "    </tr>\n",
       "    <tr>\n",
       "      <th>NHPIVAP</th>\n",
       "      <td>NHPIVAP</td>\n",
       "      <td>2212</td>\n",
       "      <td>2212</td>\n",
       "      <td>True</td>\n",
       "    </tr>\n",
       "    <tr>\n",
       "      <th>OTHERVAP</th>\n",
       "      <td>OTHERVAP</td>\n",
       "      <td>12598</td>\n",
       "      <td>12598</td>\n",
       "      <td>True</td>\n",
       "    </tr>\n",
       "    <tr>\n",
       "      <th>2MOREVAP</th>\n",
       "      <td>2MOREVAP</td>\n",
       "      <td>116279</td>\n",
       "      <td>116279</td>\n",
       "      <td>True</td>\n",
       "    </tr>\n",
       "  </tbody>\n",
       "</table>\n",
       "</div>"
      ],
      "text/plain": [
       "           pop_col  population_df  vest_base  equal\n",
       "TOTPOP      TOTPOP        5118425    5118425   True\n",
       "HISP          HISP         352838     352838   True\n",
       "NH_WHITE  NH_WHITE        3178552    3178552   True\n",
       "NH_BLACK  NH_BLACK        1269031    1269031   True\n",
       "NH_AMIN    NH_AMIN          16591      16591   True\n",
       "NH_ASIAN  NH_ASIAN          89394      89394   True\n",
       "NH_NHPI    NH_NHPI           3085       3085   True\n",
       "NH_OTHER  NH_OTHER          19354      19354   True\n",
       "NH_2MORE  NH_2MORE         189580     189580   True\n",
       "H_WHITE    H_WHITE          64890      64890   True\n",
       "H_BLACK    H_BLACK          11500      11500   True\n",
       "H_AMIN      H_AMIN           7712       7712   True\n",
       "H_ASIAN    H_ASIAN           1072       1072   True\n",
       "H_NHPI      H_NHPI            346        346   True\n",
       "H_OTHER    H_OTHER         158522     158522   True\n",
       "H_2MORE    H_2MORE         108796     108796   True\n",
       "VAP            VAP        4014460    4014460   True\n",
       "HVAP          HVAP         231124     231124   True\n",
       "WVAP          WVAP        2603975    2603975   True\n",
       "BVAP          BVAP         964667     964667   True\n",
       "AMINVAP    AMINVAP          13333      13333   True\n",
       "ASIANVAP  ASIANVAP          70272      70272   True\n",
       "NHPIVAP    NHPIVAP           2212       2212   True\n",
       "OTHERVAP  OTHERVAP          12598      12598   True\n",
       "2MOREVAP  2MOREVAP         116279     116279   True"
      ]
     },
     "execution_count": 28,
     "metadata": {},
     "output_type": "execute_result"
    }
   ],
   "source": [
    "pd.DataFrame({\n",
    "    'pop_col': pop_col,\n",
    "    'population_df': population_df[pop_col].sum(), \n",
    "    'vest_base': vest_base[pop_col].sum(),\n",
    "    'equal': [x == y for x, y in zip(population_df[pop_col].sum(), vest_base[pop_col].sum())]\n",
    "})"
   ]
  },
  {
   "cell_type": "markdown",
   "metadata": {},
   "source": [
    "## Add more vest data"
   ]
  },
  {
   "cell_type": "code",
   "execution_count": 29,
   "metadata": {},
   "outputs": [],
   "source": [
    "vest18 = gpd.read_file(vest18_data)\n",
    "vest16 = gpd.read_file(vest16_data)"
   ]
  },
  {
   "cell_type": "code",
   "execution_count": 30,
   "metadata": {},
   "outputs": [
    {
     "data": {
      "text/plain": [
       "Index(['STATEFP', 'COUNTYFP', 'VTDST', 'NAME', 'G18GOVDSMI', 'G18GOVRMCM',\n",
       "       'G18GOVOWRI', 'G18SOSDWHI', 'G18SOSRHAM', 'G18SOSOWRI', 'G18TREDGLE',\n",
       "       'G18TREWGLE', 'G18TRERLOF', 'G18TREAWOR', 'G18TREOWRI', 'G18ATGDANA',\n",
       "       'G18ATGWANA', 'G18ATGRWIL', 'G18ATGOWRI', 'G18COMRECK', 'G18COMOWRI',\n",
       "       'G18SPIRMIT', 'G18SPIOWRI', 'G18AGRUNEL', 'G18AGRGEDM', 'G18AGRRWEA',\n",
       "       'G18AGROWRI', 'geometry'],\n",
       "      dtype='object')"
      ]
     },
     "execution_count": 30,
     "metadata": {},
     "output_type": "execute_result"
    }
   ],
   "source": [
    "vest18.columns"
   ]
  },
  {
   "cell_type": "code",
   "execution_count": 31,
   "metadata": {},
   "outputs": [
    {
     "data": {
      "text/plain": [
       "Index(['STATEFP', 'COUNTYFP', 'PCODE', 'NAME', 'G16PRERTRU', 'G16PREDCLI',\n",
       "       'G16PRELJOH', 'G16PREGSTE', 'G16PREIMCM', 'G16PRECCAS', 'G16PREASKE',\n",
       "       'G16USSRSCO', 'G16USSDDIX', 'G16USSLBLE', 'G16USSASCA', 'G16USSOWRI',\n",
       "       'geometry'],\n",
       "      dtype='object')"
      ]
     },
     "execution_count": 31,
     "metadata": {},
     "output_type": "execute_result"
    }
   ],
   "source": [
    "vest16.columns"
   ]
  },
  {
   "cell_type": "code",
   "execution_count": 32,
   "metadata": {},
   "outputs": [
    {
     "name": "stderr",
     "output_type": "stream",
     "text": [
      "100%|██████████| 2247/2247 [00:05<00:00, 393.44it/s]\n"
     ]
    },
    {
     "name": "stdout",
     "output_type": "stream",
     "text": [
      "There are 5 overlaps.\n",
      "There are 21 holes.\n",
      "Snapping all geometries to a grid with precision 10^( -5 ) to avoid GEOS errors.\n",
      "Identifying overlaps...\n"
     ]
    },
    {
     "name": "stderr",
     "output_type": "stream",
     "text": [
      "100%|██████████| 2333/2333 [00:01<00:00, 1617.99it/s]\n"
     ]
    },
    {
     "name": "stdout",
     "output_type": "stream",
     "text": [
      "Resolving overlaps...\n",
      "Assigning order 2 pieces...\n",
      "Filling gaps...\n"
     ]
    },
    {
     "name": "stderr",
     "output_type": "stream",
     "text": [
      "Gaps to simplify: 100%|██████████| 19/19 [00:03<00:00,  4.86it/s]\n",
      "Gaps to fill: 0it [00:00, ?it/s]\n",
      "100%|██████████| 2247/2247 [00:05<00:00, 415.21it/s]\n"
     ]
    },
    {
     "name": "stdout",
     "output_type": "stream",
     "text": [
      "smart_repair successful\n"
     ]
    },
    {
     "name": "stderr",
     "output_type": "stream",
     "text": [
      "100%|██████████| 2247/2247 [00:06<00:00, 337.31it/s]\n",
      "100%|██████████| 2247/2247 [00:24<00:00, 91.62it/s] \n",
      "100%|██████████| 2263/2263 [00:05<00:00, 423.87it/s]\n",
      "100%|██████████| 2263/2263 [00:23<00:00, 95.77it/s] \n"
     ]
    },
    {
     "name": "stdout",
     "output_type": "stream",
     "text": [
      "population agrees\n"
     ]
    }
   ],
   "source": [
    "# check the result here\n",
    "election_df = add_vest(vest18, election_df, '18', population_df, 4)"
   ]
  },
  {
   "cell_type": "code",
   "execution_count": 33,
   "metadata": {},
   "outputs": [
    {
     "data": {
      "text/plain": [
       "Index(['2MOREVAP', 'AGR18O', 'AGR18R', 'AMINVAP', 'ASIANVAP', 'ATG18D',\n",
       "       'ATG18O', 'ATG18R', 'BVAP', 'CODE_NAME', 'COM18O', 'COM18R', 'COUNTY',\n",
       "       'GOV18D', 'GOV18O', 'GOV18R', 'HISP', 'HVAP', 'H_2MORE', 'H_AMIN',\n",
       "       'H_ASIAN', 'H_BLACK', 'H_NHPI', 'H_OTHER', 'H_WHITE', 'NHPIVAP',\n",
       "       'NH_2MORE', 'NH_AMIN', 'NH_ASIAN', 'NH_BLACK', 'NH_NHPI', 'NH_OTHER',\n",
       "       'NH_WHITE', 'OTHERVAP', 'PCODE', 'PRE20D', 'PRE20O', 'PRE20R', 'SOS18D',\n",
       "       'SOS18O', 'SOS18R', 'SPI18O', 'SPI18R', 'TOTPOP', 'TRE18D', 'TRE18O',\n",
       "       'TRE18R', 'USS20D', 'USS20O', 'USS20R', 'VAP', 'WVAP', 'geometry'],\n",
       "      dtype='object')"
      ]
     },
     "execution_count": 33,
     "metadata": {},
     "output_type": "execute_result"
    }
   ],
   "source": [
    "election_df.columns"
   ]
  },
  {
   "cell_type": "code",
   "execution_count": 34,
   "metadata": {},
   "outputs": [
    {
     "name": "stderr",
     "output_type": "stream",
     "text": [
      "100%|██████████| 2234/2234 [00:05<00:00, 417.77it/s]\n"
     ]
    },
    {
     "name": "stdout",
     "output_type": "stream",
     "text": [
      "There are 942 overlaps.\n",
      "There are 7012 holes.\n",
      "There are some invalid geometries.\n",
      "Snapping all geometries to a grid with precision 10^( -5 ) to avoid GEOS errors.\n",
      "Identifying overlaps...\n"
     ]
    },
    {
     "name": "stderr",
     "output_type": "stream",
     "text": [
      "100%|██████████| 12900/12900 [00:07<00:00, 1842.00it/s]\n"
     ]
    },
    {
     "name": "stdout",
     "output_type": "stream",
     "text": [
      "Resolving overlaps...\n",
      "Assigning order 2 pieces...\n",
      "Assigning order 3 pieces...\n",
      "Filling gaps...\n"
     ]
    },
    {
     "name": "stderr",
     "output_type": "stream",
     "text": [
      "Gaps to simplify: 100%|██████████| 5352/5352 [22:31<00:00,  3.96it/s]  \n",
      "Gaps to fill: 100%|██████████| 315/315 [01:55<00:00,  2.74it/s]\n",
      "100%|██████████| 2234/2234 [00:03<00:00, 564.90it/s]\n"
     ]
    },
    {
     "name": "stdout",
     "output_type": "stream",
     "text": [
      "smart_repair successful\n"
     ]
    },
    {
     "name": "stderr",
     "output_type": "stream",
     "text": [
      "100%|██████████| 2234/2234 [00:05<00:00, 427.20it/s]\n",
      "100%|██████████| 2234/2234 [00:18<00:00, 122.15it/s]\n",
      "100%|██████████| 2263/2263 [00:05<00:00, 434.60it/s]\n",
      "100%|██████████| 2263/2263 [00:20<00:00, 112.07it/s]\n"
     ]
    },
    {
     "name": "stdout",
     "output_type": "stream",
     "text": [
      "population agrees\n"
     ]
    }
   ],
   "source": [
    "election_df = add_vest(vest16, election_df, '16', population_df, 4)"
   ]
  },
  {
   "cell_type": "markdown",
   "metadata": {},
   "source": [
    "##  Add the district data"
   ]
  },
  {
   "cell_type": "code",
   "execution_count": 35,
   "metadata": {},
   "outputs": [],
   "source": [
    "send = gpd.read_file(send_data)\n",
    "hdist = gpd.read_file(hdist_data)"
   ]
  },
  {
   "cell_type": "code",
   "execution_count": 36,
   "metadata": {},
   "outputs": [
    {
     "data": {
      "text/html": [
       "<div>\n",
       "<style scoped>\n",
       "    .dataframe tbody tr th:only-of-type {\n",
       "        vertical-align: middle;\n",
       "    }\n",
       "\n",
       "    .dataframe tbody tr th {\n",
       "        vertical-align: top;\n",
       "    }\n",
       "\n",
       "    .dataframe thead th {\n",
       "        text-align: right;\n",
       "    }\n",
       "</style>\n",
       "<table border=\"1\" class=\"dataframe\">\n",
       "  <thead>\n",
       "    <tr style=\"text-align: right;\">\n",
       "      <th></th>\n",
       "      <th>DISTRICT</th>\n",
       "      <th>POPULATION</th>\n",
       "      <th>DEVIATION</th>\n",
       "      <th>F_DEVIATIO</th>\n",
       "      <th>HISPANIC_O</th>\n",
       "      <th>F_HISPANIC</th>\n",
       "      <th>NH_WHT</th>\n",
       "      <th>F_NH_WHT</th>\n",
       "      <th>NH_DOJ_BLK</th>\n",
       "      <th>F_NH_DOJ_B</th>\n",
       "      <th>F18_POP</th>\n",
       "      <th>F_18_POP</th>\n",
       "      <th>H18_POP</th>\n",
       "      <th>F_H18_POP</th>\n",
       "      <th>NH18_WHT</th>\n",
       "      <th>F_NH18_WHT</th>\n",
       "      <th>NH18_DOJ_B</th>\n",
       "      <th>F_NH18_DOJ</th>\n",
       "      <th>geometry</th>\n",
       "    </tr>\n",
       "  </thead>\n",
       "  <tbody>\n",
       "    <tr>\n",
       "      <th>0</th>\n",
       "      <td>1</td>\n",
       "      <td>731203</td>\n",
       "      <td>-1.0</td>\n",
       "      <td>-0.000001</td>\n",
       "      <td>59591</td>\n",
       "      <td>0.081497</td>\n",
       "      <td>498807</td>\n",
       "      <td>0.682173</td>\n",
       "      <td>130245</td>\n",
       "      <td>0.178124</td>\n",
       "      <td>570538</td>\n",
       "      <td>0.780273</td>\n",
       "      <td>38918</td>\n",
       "      <td>0.068213</td>\n",
       "      <td>405889</td>\n",
       "      <td>0.711414</td>\n",
       "      <td>95400</td>\n",
       "      <td>0.167211</td>\n",
       "      <td>POLYGON ((-79.44670 33.21346, -79.44621 33.213...</td>\n",
       "    </tr>\n",
       "    <tr>\n",
       "      <th>1</th>\n",
       "      <td>2</td>\n",
       "      <td>731203</td>\n",
       "      <td>-1.0</td>\n",
       "      <td>-0.000001</td>\n",
       "      <td>51434</td>\n",
       "      <td>0.070342</td>\n",
       "      <td>446768</td>\n",
       "      <td>0.611004</td>\n",
       "      <td>190488</td>\n",
       "      <td>0.260513</td>\n",
       "      <td>563028</td>\n",
       "      <td>0.770002</td>\n",
       "      <td>33556</td>\n",
       "      <td>0.059599</td>\n",
       "      <td>360714</td>\n",
       "      <td>0.640668</td>\n",
       "      <td>137891</td>\n",
       "      <td>0.244910</td>\n",
       "      <td>POLYGON ((-81.13928 34.06834, -81.13902 34.068...</td>\n",
       "    </tr>\n",
       "    <tr>\n",
       "      <th>2</th>\n",
       "      <td>3</td>\n",
       "      <td>731204</td>\n",
       "      <td>0.0</td>\n",
       "      <td>0.000000</td>\n",
       "      <td>42512</td>\n",
       "      <td>0.058140</td>\n",
       "      <td>524457</td>\n",
       "      <td>0.717251</td>\n",
       "      <td>132875</td>\n",
       "      <td>0.181721</td>\n",
       "      <td>577297</td>\n",
       "      <td>0.789516</td>\n",
       "      <td>27422</td>\n",
       "      <td>0.047501</td>\n",
       "      <td>427484</td>\n",
       "      <td>0.740492</td>\n",
       "      <td>98848</td>\n",
       "      <td>0.171226</td>\n",
       "      <td>POLYGON ((-81.33896 34.19759, -81.33898 34.197...</td>\n",
       "    </tr>\n",
       "    <tr>\n",
       "      <th>3</th>\n",
       "      <td>4</td>\n",
       "      <td>731204</td>\n",
       "      <td>0.0</td>\n",
       "      <td>0.000000</td>\n",
       "      <td>77653</td>\n",
       "      <td>0.106199</td>\n",
       "      <td>468620</td>\n",
       "      <td>0.640888</td>\n",
       "      <td>142090</td>\n",
       "      <td>0.194323</td>\n",
       "      <td>565412</td>\n",
       "      <td>0.773262</td>\n",
       "      <td>50888</td>\n",
       "      <td>0.090002</td>\n",
       "      <td>379099</td>\n",
       "      <td>0.670483</td>\n",
       "      <td>104145</td>\n",
       "      <td>0.184193</td>\n",
       "      <td>POLYGON ((-82.45514 34.75068, -82.45528 34.750...</td>\n",
       "    </tr>\n",
       "    <tr>\n",
       "      <th>4</th>\n",
       "      <td>5</td>\n",
       "      <td>731204</td>\n",
       "      <td>0.0</td>\n",
       "      <td>0.000000</td>\n",
       "      <td>39825</td>\n",
       "      <td>0.054465</td>\n",
       "      <td>468920</td>\n",
       "      <td>0.641298</td>\n",
       "      <td>182332</td>\n",
       "      <td>0.249359</td>\n",
       "      <td>562685</td>\n",
       "      <td>0.769532</td>\n",
       "      <td>25482</td>\n",
       "      <td>0.045286</td>\n",
       "      <td>374151</td>\n",
       "      <td>0.664939</td>\n",
       "      <td>135206</td>\n",
       "      <td>0.240287</td>\n",
       "      <td>POLYGON ((-80.35231 33.87588, -80.35207 33.875...</td>\n",
       "    </tr>\n",
       "  </tbody>\n",
       "</table>\n",
       "</div>"
      ],
      "text/plain": [
       "  DISTRICT  POPULATION  DEVIATION  F_DEVIATIO  HISPANIC_O  F_HISPANIC  NH_WHT  \\\n",
       "0        1      731203       -1.0   -0.000001       59591    0.081497  498807   \n",
       "1        2      731203       -1.0   -0.000001       51434    0.070342  446768   \n",
       "2        3      731204        0.0    0.000000       42512    0.058140  524457   \n",
       "3        4      731204        0.0    0.000000       77653    0.106199  468620   \n",
       "4        5      731204        0.0    0.000000       39825    0.054465  468920   \n",
       "\n",
       "   F_NH_WHT  NH_DOJ_BLK  F_NH_DOJ_B  F18_POP  F_18_POP  H18_POP  F_H18_POP  \\\n",
       "0  0.682173      130245    0.178124   570538  0.780273    38918   0.068213   \n",
       "1  0.611004      190488    0.260513   563028  0.770002    33556   0.059599   \n",
       "2  0.717251      132875    0.181721   577297  0.789516    27422   0.047501   \n",
       "3  0.640888      142090    0.194323   565412  0.773262    50888   0.090002   \n",
       "4  0.641298      182332    0.249359   562685  0.769532    25482   0.045286   \n",
       "\n",
       "   NH18_WHT  F_NH18_WHT  NH18_DOJ_B  F_NH18_DOJ  \\\n",
       "0    405889    0.711414       95400    0.167211   \n",
       "1    360714    0.640668      137891    0.244910   \n",
       "2    427484    0.740492       98848    0.171226   \n",
       "3    379099    0.670483      104145    0.184193   \n",
       "4    374151    0.664939      135206    0.240287   \n",
       "\n",
       "                                            geometry  \n",
       "0  POLYGON ((-79.44670 33.21346, -79.44621 33.213...  \n",
       "1  POLYGON ((-81.13928 34.06834, -81.13902 34.068...  \n",
       "2  POLYGON ((-81.33896 34.19759, -81.33898 34.197...  \n",
       "3  POLYGON ((-82.45514 34.75068, -82.45528 34.750...  \n",
       "4  POLYGON ((-80.35231 33.87588, -80.35207 33.875...  "
      ]
     },
     "execution_count": 36,
     "metadata": {},
     "output_type": "execute_result"
    }
   ],
   "source": [
    "cong_df.head()"
   ]
  },
  {
   "cell_type": "code",
   "execution_count": 37,
   "metadata": {},
   "outputs": [
    {
     "name": "stderr",
     "output_type": "stream",
     "text": [
      "100%|██████████| 7/7 [00:00<00:00, 24.55it/s]\n",
      "100%|██████████| 7/7 [00:00<00:00, 55.45it/s]\n",
      "100%|██████████| 7/7 [00:01<00:00,  3.92it/s]\n"
     ]
    }
   ],
   "source": [
    "election_df = add_district(cong_df, \"CD\", election_df, \"DISTRICT\")"
   ]
  },
  {
   "cell_type": "code",
   "execution_count": 38,
   "metadata": {},
   "outputs": [
    {
     "data": {
      "text/html": [
       "<div>\n",
       "<style scoped>\n",
       "    .dataframe tbody tr th:only-of-type {\n",
       "        vertical-align: middle;\n",
       "    }\n",
       "\n",
       "    .dataframe tbody tr th {\n",
       "        vertical-align: top;\n",
       "    }\n",
       "\n",
       "    .dataframe thead th {\n",
       "        text-align: right;\n",
       "    }\n",
       "</style>\n",
       "<table border=\"1\" class=\"dataframe\">\n",
       "  <thead>\n",
       "    <tr style=\"text-align: right;\">\n",
       "      <th></th>\n",
       "      <th>ID</th>\n",
       "      <th>AREA</th>\n",
       "      <th>DISTRICT</th>\n",
       "      <th>MEMBERS</th>\n",
       "      <th>LOCKED</th>\n",
       "      <th>NAME</th>\n",
       "      <th>POPULATION</th>\n",
       "      <th>HISPANIC_O</th>\n",
       "      <th>NH_WHT</th>\n",
       "      <th>NH_DOJ_BLK</th>\n",
       "      <th>...</th>\n",
       "      <th>F_G20P_DV</th>\n",
       "      <th>F_G20P_RV</th>\n",
       "      <th>F_G20S_DV</th>\n",
       "      <th>F_G20S_RV</th>\n",
       "      <th>MULTIPLE_F</th>\n",
       "      <th>F_INGRP_CO</th>\n",
       "      <th>F_INGRP_IN</th>\n",
       "      <th>F_PEOPLE_I</th>\n",
       "      <th>DISTRICT_L</th>\n",
       "      <th>geometry</th>\n",
       "    </tr>\n",
       "  </thead>\n",
       "  <tbody>\n",
       "    <tr>\n",
       "      <th>0</th>\n",
       "      <td>1</td>\n",
       "      <td>718.418213</td>\n",
       "      <td>1</td>\n",
       "      <td>1.0</td>\n",
       "      <td>None</td>\n",
       "      <td>None</td>\n",
       "      <td>110467</td>\n",
       "      <td>5876</td>\n",
       "      <td>88773</td>\n",
       "      <td>9028</td>\n",
       "      <td>...</td>\n",
       "      <td>0.298565</td>\n",
       "      <td>0.701435</td>\n",
       "      <td>0.300292</td>\n",
       "      <td>0.699708</td>\n",
       "      <td>1|-0.72%|29.86%|70.14%|30.03%|69.97%</td>\n",
       "      <td>0.001258</td>\n",
       "      <td>0.005404</td>\n",
       "      <td>0.074873</td>\n",
       "      <td>1|-0.72%</td>\n",
       "      <td>POLYGON ((-82.89750 35.05618, -82.89754 35.056...</td>\n",
       "    </tr>\n",
       "    <tr>\n",
       "      <th>1</th>\n",
       "      <td>2</td>\n",
       "      <td>707.279419</td>\n",
       "      <td>10</td>\n",
       "      <td>1.0</td>\n",
       "      <td>None</td>\n",
       "      <td>None</td>\n",
       "      <td>113230</td>\n",
       "      <td>7121</td>\n",
       "      <td>76903</td>\n",
       "      <td>24077</td>\n",
       "      <td>...</td>\n",
       "      <td>0.328773</td>\n",
       "      <td>0.671227</td>\n",
       "      <td>0.334614</td>\n",
       "      <td>0.665386</td>\n",
       "      <td>10|1.76%|32.88%|67.12%|33.46%|66.54%</td>\n",
       "      <td>0.004875</td>\n",
       "      <td>0.015738</td>\n",
       "      <td>0.031255</td>\n",
       "      <td>10|1.76%</td>\n",
       "      <td>POLYGON ((-81.47197 34.07655, -81.47190 34.076...</td>\n",
       "    </tr>\n",
       "    <tr>\n",
       "      <th>2</th>\n",
       "      <td>3</td>\n",
       "      <td>179.357925</td>\n",
       "      <td>11</td>\n",
       "      <td>1.0</td>\n",
       "      <td>None</td>\n",
       "      <td>None</td>\n",
       "      <td>114799</td>\n",
       "      <td>10962</td>\n",
       "      <td>68175</td>\n",
       "      <td>29085</td>\n",
       "      <td>...</td>\n",
       "      <td>0.397482</td>\n",
       "      <td>0.602518</td>\n",
       "      <td>0.413144</td>\n",
       "      <td>0.586856</td>\n",
       "      <td>11|3.17%|39.75%|60.25%|41.31%|58.69%</td>\n",
       "      <td>0.008807</td>\n",
       "      <td>0.016254</td>\n",
       "      <td>0.044173</td>\n",
       "      <td>11|3.17%</td>\n",
       "      <td>POLYGON ((-81.92258 34.95728, -81.92207 34.956...</td>\n",
       "    </tr>\n",
       "    <tr>\n",
       "      <th>3</th>\n",
       "      <td>4</td>\n",
       "      <td>148.798386</td>\n",
       "      <td>12</td>\n",
       "      <td>1.0</td>\n",
       "      <td>None</td>\n",
       "      <td>None</td>\n",
       "      <td>116372</td>\n",
       "      <td>11610</td>\n",
       "      <td>72615</td>\n",
       "      <td>23341</td>\n",
       "      <td>...</td>\n",
       "      <td>0.402806</td>\n",
       "      <td>0.597194</td>\n",
       "      <td>0.409886</td>\n",
       "      <td>0.590114</td>\n",
       "      <td>12|4.59%|40.28%|59.72%|40.99%|59.01%</td>\n",
       "      <td>0.000077</td>\n",
       "      <td>0.003343</td>\n",
       "      <td>0.006393</td>\n",
       "      <td>12|4.59%</td>\n",
       "      <td>POLYGON ((-82.20178 34.94807, -82.19981 34.948...</td>\n",
       "    </tr>\n",
       "    <tr>\n",
       "      <th>4</th>\n",
       "      <td>5</td>\n",
       "      <td>592.801880</td>\n",
       "      <td>13</td>\n",
       "      <td>1.0</td>\n",
       "      <td>None</td>\n",
       "      <td>None</td>\n",
       "      <td>113911</td>\n",
       "      <td>6225</td>\n",
       "      <td>81672</td>\n",
       "      <td>20052</td>\n",
       "      <td>...</td>\n",
       "      <td>0.343869</td>\n",
       "      <td>0.656131</td>\n",
       "      <td>0.350526</td>\n",
       "      <td>0.649474</td>\n",
       "      <td>13|2.37%|34.39%|65.61%|35.05%|64.95%</td>\n",
       "      <td>0.009288</td>\n",
       "      <td>0.018269</td>\n",
       "      <td>0.026565</td>\n",
       "      <td>13|2.37%</td>\n",
       "      <td>POLYGON ((-81.85030 35.03285, -81.85030 35.032...</td>\n",
       "    </tr>\n",
       "  </tbody>\n",
       "</table>\n",
       "<p>5 rows × 46 columns</p>\n",
       "</div>"
      ],
      "text/plain": [
       "   ID        AREA DISTRICT  MEMBERS LOCKED  NAME  POPULATION  HISPANIC_O  \\\n",
       "0   1  718.418213        1      1.0   None  None      110467        5876   \n",
       "1   2  707.279419       10      1.0   None  None      113230        7121   \n",
       "2   3  179.357925       11      1.0   None  None      114799       10962   \n",
       "3   4  148.798386       12      1.0   None  None      116372       11610   \n",
       "4   5  592.801880       13      1.0   None  None      113911        6225   \n",
       "\n",
       "   NH_WHT  NH_DOJ_BLK  ...  F_G20P_DV  F_G20P_RV  F_G20S_DV  F_G20S_RV  \\\n",
       "0   88773        9028  ...   0.298565   0.701435   0.300292   0.699708   \n",
       "1   76903       24077  ...   0.328773   0.671227   0.334614   0.665386   \n",
       "2   68175       29085  ...   0.397482   0.602518   0.413144   0.586856   \n",
       "3   72615       23341  ...   0.402806   0.597194   0.409886   0.590114   \n",
       "4   81672       20052  ...   0.343869   0.656131   0.350526   0.649474   \n",
       "\n",
       "                             MULTIPLE_F  F_INGRP_CO  F_INGRP_IN  F_PEOPLE_I  \\\n",
       "0  1|-0.72%|29.86%|70.14%|30.03%|69.97%    0.001258    0.005404    0.074873   \n",
       "1  10|1.76%|32.88%|67.12%|33.46%|66.54%    0.004875    0.015738    0.031255   \n",
       "2  11|3.17%|39.75%|60.25%|41.31%|58.69%    0.008807    0.016254    0.044173   \n",
       "3  12|4.59%|40.28%|59.72%|40.99%|59.01%    0.000077    0.003343    0.006393   \n",
       "4  13|2.37%|34.39%|65.61%|35.05%|64.95%    0.009288    0.018269    0.026565   \n",
       "\n",
       "   DISTRICT_L                                           geometry  \n",
       "0    1|-0.72%  POLYGON ((-82.89750 35.05618, -82.89754 35.056...  \n",
       "1    10|1.76%  POLYGON ((-81.47197 34.07655, -81.47190 34.076...  \n",
       "2    11|3.17%  POLYGON ((-81.92258 34.95728, -81.92207 34.956...  \n",
       "3    12|4.59%  POLYGON ((-82.20178 34.94807, -82.19981 34.948...  \n",
       "4    13|2.37%  POLYGON ((-81.85030 35.03285, -81.85030 35.032...  \n",
       "\n",
       "[5 rows x 46 columns]"
      ]
     },
     "execution_count": 38,
     "metadata": {},
     "output_type": "execute_result"
    }
   ],
   "source": [
    "send.head()"
   ]
  },
  {
   "cell_type": "code",
   "execution_count": 39,
   "metadata": {},
   "outputs": [
    {
     "name": "stderr",
     "output_type": "stream",
     "text": [
      "100%|██████████| 46/46 [00:00<00:00, 61.92it/s]\n",
      "100%|██████████| 46/46 [00:00<00:00, 198.93it/s]\n",
      "100%|██████████| 46/46 [00:03<00:00, 12.16it/s]\n"
     ]
    }
   ],
   "source": [
    "election_df = add_district(send, \"SEND\", election_df, \"DISTRICT\")"
   ]
  },
  {
   "cell_type": "code",
   "execution_count": 40,
   "metadata": {},
   "outputs": [
    {
     "data": {
      "text/html": [
       "<div>\n",
       "<style scoped>\n",
       "    .dataframe tbody tr th:only-of-type {\n",
       "        vertical-align: middle;\n",
       "    }\n",
       "\n",
       "    .dataframe tbody tr th {\n",
       "        vertical-align: top;\n",
       "    }\n",
       "\n",
       "    .dataframe thead th {\n",
       "        text-align: right;\n",
       "    }\n",
       "</style>\n",
       "<table border=\"1\" class=\"dataframe\">\n",
       "  <thead>\n",
       "    <tr style=\"text-align: right;\">\n",
       "      <th></th>\n",
       "      <th>Name</th>\n",
       "      <th>descriptio</th>\n",
       "      <th>timestamp</th>\n",
       "      <th>begin</th>\n",
       "      <th>end</th>\n",
       "      <th>altitudeMo</th>\n",
       "      <th>tessellate</th>\n",
       "      <th>extrude</th>\n",
       "      <th>visibility</th>\n",
       "      <th>drawOrder</th>\n",
       "      <th>icon</th>\n",
       "      <th>ID</th>\n",
       "      <th>geometry</th>\n",
       "    </tr>\n",
       "  </thead>\n",
       "  <tbody>\n",
       "    <tr>\n",
       "      <th>0</th>\n",
       "      <td>1</td>\n",
       "      <td>None</td>\n",
       "      <td>None</td>\n",
       "      <td>None</td>\n",
       "      <td>None</td>\n",
       "      <td>None</td>\n",
       "      <td>-1</td>\n",
       "      <td>0</td>\n",
       "      <td>-1</td>\n",
       "      <td>None</td>\n",
       "      <td>None</td>\n",
       "      <td>1</td>\n",
       "      <td>POLYGON Z ((-82.89807 35.05603 0.00000, -82.89...</td>\n",
       "    </tr>\n",
       "    <tr>\n",
       "      <th>1</th>\n",
       "      <td>2</td>\n",
       "      <td>None</td>\n",
       "      <td>None</td>\n",
       "      <td>None</td>\n",
       "      <td>None</td>\n",
       "      <td>None</td>\n",
       "      <td>-1</td>\n",
       "      <td>0</td>\n",
       "      <td>-1</td>\n",
       "      <td>None</td>\n",
       "      <td>None</td>\n",
       "      <td>2</td>\n",
       "      <td>POLYGON Z ((-82.85442 34.60972 0.00000, -82.85...</td>\n",
       "    </tr>\n",
       "    <tr>\n",
       "      <th>2</th>\n",
       "      <td>3</td>\n",
       "      <td>None</td>\n",
       "      <td>None</td>\n",
       "      <td>None</td>\n",
       "      <td>None</td>\n",
       "      <td>None</td>\n",
       "      <td>-1</td>\n",
       "      <td>0</td>\n",
       "      <td>-1</td>\n",
       "      <td>None</td>\n",
       "      <td>None</td>\n",
       "      <td>3</td>\n",
       "      <td>POLYGON Z ((-82.83741 34.65527 0.00000, -82.83...</td>\n",
       "    </tr>\n",
       "    <tr>\n",
       "      <th>3</th>\n",
       "      <td>4</td>\n",
       "      <td>None</td>\n",
       "      <td>None</td>\n",
       "      <td>None</td>\n",
       "      <td>None</td>\n",
       "      <td>None</td>\n",
       "      <td>-1</td>\n",
       "      <td>0</td>\n",
       "      <td>-1</td>\n",
       "      <td>None</td>\n",
       "      <td>None</td>\n",
       "      <td>4</td>\n",
       "      <td>POLYGON Z ((-82.83280 34.94897 0.00000, -82.83...</td>\n",
       "    </tr>\n",
       "    <tr>\n",
       "      <th>4</th>\n",
       "      <td>5</td>\n",
       "      <td>None</td>\n",
       "      <td>None</td>\n",
       "      <td>None</td>\n",
       "      <td>None</td>\n",
       "      <td>None</td>\n",
       "      <td>-1</td>\n",
       "      <td>0</td>\n",
       "      <td>-1</td>\n",
       "      <td>None</td>\n",
       "      <td>None</td>\n",
       "      <td>5</td>\n",
       "      <td>POLYGON Z ((-82.67378 34.72822 0.00000, -82.67...</td>\n",
       "    </tr>\n",
       "  </tbody>\n",
       "</table>\n",
       "</div>"
      ],
      "text/plain": [
       "  Name descriptio timestamp begin   end altitudeMo  tessellate  extrude  \\\n",
       "0    1       None      None  None  None       None          -1        0   \n",
       "1    2       None      None  None  None       None          -1        0   \n",
       "2    3       None      None  None  None       None          -1        0   \n",
       "3    4       None      None  None  None       None          -1        0   \n",
       "4    5       None      None  None  None       None          -1        0   \n",
       "\n",
       "   visibility drawOrder  icon ID  \\\n",
       "0          -1      None  None  1   \n",
       "1          -1      None  None  2   \n",
       "2          -1      None  None  3   \n",
       "3          -1      None  None  4   \n",
       "4          -1      None  None  5   \n",
       "\n",
       "                                            geometry  \n",
       "0  POLYGON Z ((-82.89807 35.05603 0.00000, -82.89...  \n",
       "1  POLYGON Z ((-82.85442 34.60972 0.00000, -82.85...  \n",
       "2  POLYGON Z ((-82.83741 34.65527 0.00000, -82.83...  \n",
       "3  POLYGON Z ((-82.83280 34.94897 0.00000, -82.83...  \n",
       "4  POLYGON Z ((-82.67378 34.72822 0.00000, -82.67...  "
      ]
     },
     "execution_count": 40,
     "metadata": {},
     "output_type": "execute_result"
    }
   ],
   "source": [
    "hdist.head()"
   ]
  },
  {
   "cell_type": "code",
   "execution_count": 41,
   "metadata": {},
   "outputs": [
    {
     "name": "stderr",
     "output_type": "stream",
     "text": [
      "100%|██████████| 124/124 [00:01<00:00, 109.59it/s]\n",
      "100%|██████████| 124/124 [00:00<00:00, 470.49it/s]\n",
      "100%|██████████| 124/124 [00:04<00:00, 28.25it/s]\n"
     ]
    }
   ],
   "source": [
    "hdist = hdist.to_crs(\"EPSG:4269\")\n",
    "election_df = add_district(hdist, \"HDIST\", election_df, \"Name\")"
   ]
  },
  {
   "cell_type": "code",
   "execution_count": 42,
   "metadata": {},
   "outputs": [
    {
     "data": {
      "text/plain": [
       "Index(['2MOREVAP', 'AGR18O', 'AGR18R', 'AMINVAP', 'ASIANVAP', 'ATG18D',\n",
       "       'ATG18O', 'ATG18R', 'BVAP', 'CODE_NAME', 'COM18O', 'COM18R', 'COUNTY',\n",
       "       'GOV18D', 'GOV18O', 'GOV18R', 'HISP', 'HVAP', 'H_2MORE', 'H_AMIN',\n",
       "       'H_ASIAN', 'H_BLACK', 'H_NHPI', 'H_OTHER', 'H_WHITE', 'NHPIVAP',\n",
       "       'NH_2MORE', 'NH_AMIN', 'NH_ASIAN', 'NH_BLACK', 'NH_NHPI', 'NH_OTHER',\n",
       "       'NH_WHITE', 'OTHERVAP', 'PCODE', 'PRE16D', 'PRE16O', 'PRE16R', 'PRE20D',\n",
       "       'PRE20O', 'PRE20R', 'SOS18D', 'SOS18O', 'SOS18R', 'SPI18O', 'SPI18R',\n",
       "       'TOTPOP', 'TRE18D', 'TRE18O', 'TRE18R', 'USS16D', 'USS16O', 'USS16R',\n",
       "       'USS20D', 'USS20O', 'USS20R', 'VAP', 'WVAP', 'geometry', 'CD', 'SEND',\n",
       "       'HDIST'],\n",
       "      dtype='object')"
      ]
     },
     "execution_count": 42,
     "metadata": {},
     "output_type": "execute_result"
    }
   ],
   "source": [
    "election_df.columns"
   ]
  },
  {
   "cell_type": "markdown",
   "metadata": {},
   "source": [
    "### Put the base precinct year after the precinct information column"
   ]
  },
  {
   "cell_type": "code",
   "execution_count": 43,
   "metadata": {},
   "outputs": [],
   "source": [
    "base_columns = {}\n",
    "if 'COUNTYFP' + year not in election_df.columns:\n",
    "    base_columns = {\n",
    "        'COUNTY':'COUNTY'+year,\n",
    "        'PCODE':'PCODE'+year,\n",
    "        'CODE_NAME':'CODE_NAME'+year}\n",
    "election_df.rename(columns=base_columns, inplace = True)"
   ]
  },
  {
   "cell_type": "code",
   "execution_count": 44,
   "metadata": {},
   "outputs": [
    {
     "data": {
      "text/plain": [
       "Index(['2MOREVAP', 'AGR18O', 'AGR18R', 'AMINVAP', 'ASIANVAP', 'ATG18D',\n",
       "       'ATG18O', 'ATG18R', 'BVAP', 'CODE_NAME20', 'COM18O', 'COM18R',\n",
       "       'COUNTY20', 'GOV18D', 'GOV18O', 'GOV18R', 'HISP', 'HVAP', 'H_2MORE',\n",
       "       'H_AMIN', 'H_ASIAN', 'H_BLACK', 'H_NHPI', 'H_OTHER', 'H_WHITE',\n",
       "       'NHPIVAP', 'NH_2MORE', 'NH_AMIN', 'NH_ASIAN', 'NH_BLACK', 'NH_NHPI',\n",
       "       'NH_OTHER', 'NH_WHITE', 'OTHERVAP', 'PCODE20', 'PRE16D', 'PRE16O',\n",
       "       'PRE16R', 'PRE20D', 'PRE20O', 'PRE20R', 'SOS18D', 'SOS18O', 'SOS18R',\n",
       "       'SPI18O', 'SPI18R', 'TOTPOP', 'TRE18D', 'TRE18O', 'TRE18R', 'USS16D',\n",
       "       'USS16O', 'USS16R', 'USS20D', 'USS20O', 'USS20R', 'VAP', 'WVAP',\n",
       "       'geometry', 'CD', 'SEND', 'HDIST'],\n",
       "      dtype='object')"
      ]
     },
     "execution_count": 44,
     "metadata": {},
     "output_type": "execute_result"
    }
   ],
   "source": [
    "election_df.columns"
   ]
  },
  {
   "cell_type": "code",
   "execution_count": 45,
   "metadata": {},
   "outputs": [],
   "source": [
    "# reorder the columns\n",
    "fixed_columns = [\n",
    "    'COUNTY'+year,\n",
    "    'PCODE'+year,\n",
    "    'CODE_NAME'+year,\n",
    "    'CD',\n",
    "    'SEND',\n",
    "    'HDIST',\n",
    "    'TOTPOP',\n",
    "    'NH_2MORE',\n",
    "    'NH_AMIN',\n",
    "    'NH_ASIAN',\n",
    "    'NH_BLACK',\n",
    "    'NH_NHPI',\n",
    "    'NH_OTHER',\n",
    "    'NH_WHITE',\n",
    "    'HISP',\n",
    "    'H_AMIN',\n",
    "    'H_ASIAN',\n",
    "    'H_BLACK',\n",
    "    'H_NHPI',\n",
    "    'H_OTHER',\n",
    "    'H_WHITE',\n",
    "    'H_2MORE',\n",
    "    'VAP',\n",
    "    'HVAP',\n",
    "    'WVAP',\n",
    "    'BVAP',\n",
    "    'AMINVAP',\n",
    "    'ASIANVAP',\n",
    "    'NHPIVAP',\n",
    "    'OTHERVAP',\n",
    "    '2MOREVAP']\n",
    "\n",
    "election_columns = [col for col in election_df.columns if col not in fixed_columns]\n",
    "final_col = fixed_columns + election_columns\n",
    "election_df = election_df[final_col]"
   ]
  },
  {
   "cell_type": "code",
   "execution_count": 46,
   "metadata": {},
   "outputs": [],
   "source": [
    "import os\n",
    "\n",
    "# store the result in directory \"il\"\n",
    "directory = \"./{}\".format(state_ab)\n",
    "if not os.path.exists(directory):\n",
    "    os.makedirs(directory)\n",
    "\n",
    "shapefile_path = \"./{}/{}.shp\".format(state_ab, state_ab)\n",
    "geojson_path = './{}/{}.geojson'.format(state_ab, state_ab)\n",
    "json_path = \"./{}/{}.json\".format(state_ab, state_ab)\n",
    "\n",
    "# Check if the shapefile or geojson file already exists\n",
    "if os.path.exists(shapefile_path):\n",
    "    os.remove(shapefile_path)\n",
    "if os.path.exists(geojson_path):\n",
    "    os.remove(geojson_path)\n",
    "\n",
    "election_df.to_file(shapefile_path)\n",
    "election_df.to_file(geojson_path, driver='GeoJSON')\n",
    "\n",
    "# Only do once to build json and read from file when generating ensembles\n",
    "graph = Graph.from_file(shapefile_path, ignore_errors=True)\n",
    "graph.to_json(json_path)"
   ]
  },
  {
   "cell_type": "code",
   "execution_count": 47,
   "metadata": {},
   "outputs": [
    {
     "data": {
      "text/plain": [
       "<Axes: >"
      ]
     },
     "execution_count": 47,
     "metadata": {},
     "output_type": "execute_result"
    },
    {
     "data": {
      "image/png": "[encoded data removed]",
      "text/plain": [
       "<Figure size 640x480 with 1 Axes>"
      ]
     },
     "metadata": {},
     "output_type": "display_data"
    }
   ],
   "source": [
    "shapefile_path = \"./{}/{}.shp\".format(state_ab, state_ab)\n",
    "shape=gpd.read_file(shapefile_path)\n",
    "shape.plot()"
   ]
  }
 ],
 "metadata": {
  "kernelspec": {
   "display_name": "gerry",
   "language": "python",
   "name": "python3"
  },
  "language_info": {
   "codemirror_mode": {
    "name": "ipython",
    "version": 3
   },
   "file_extension": ".py",
   "mimetype": "text/x-python",
   "name": "python",
   "nbconvert_exporter": "python",
   "pygments_lexer": "ipython3",
   "version": "3.11.7"
  }
 },
 "nbformat": 4,
 "nbformat_minor": 2
}
